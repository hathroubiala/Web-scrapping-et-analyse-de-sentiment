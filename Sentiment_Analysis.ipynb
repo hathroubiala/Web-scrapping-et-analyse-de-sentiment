{
  "nbformat": 4,
  "nbformat_minor": 0,
  "metadata": {
    "colab": {
      "provenance": []
    },
    "kernelspec": {
      "name": "python3",
      "display_name": "Python 3"
    },
    "language_info": {
      "name": "python"
    },
    "widgets": {
      "application/vnd.jupyter.widget-state+json": {
        "692e30d7d6c64d61833ff119ec7066b4": {
          "model_module": "@jupyter-widgets/controls",
          "model_name": "HBoxModel",
          "model_module_version": "1.5.0",
          "state": {
            "_dom_classes": [],
            "_model_module": "@jupyter-widgets/controls",
            "_model_module_version": "1.5.0",
            "_model_name": "HBoxModel",
            "_view_count": null,
            "_view_module": "@jupyter-widgets/controls",
            "_view_module_version": "1.5.0",
            "_view_name": "HBoxView",
            "box_style": "",
            "children": [
              "IPY_MODEL_bcad7d7df43f41638ff530e1eeff20c8",
              "IPY_MODEL_5c37e6585ab44ce1aa7a83374f1c5e3c",
              "IPY_MODEL_c606778469894878b7947c9a6e5f0a5b"
            ],
            "layout": "IPY_MODEL_b5b26b8ef56f4cce9d2b631797f870a6"
          }
        },
        "bcad7d7df43f41638ff530e1eeff20c8": {
          "model_module": "@jupyter-widgets/controls",
          "model_name": "HTMLModel",
          "model_module_version": "1.5.0",
          "state": {
            "_dom_classes": [],
            "_model_module": "@jupyter-widgets/controls",
            "_model_module_version": "1.5.0",
            "_model_name": "HTMLModel",
            "_view_count": null,
            "_view_module": "@jupyter-widgets/controls",
            "_view_module_version": "1.5.0",
            "_view_name": "HTMLView",
            "description": "",
            "description_tooltip": null,
            "layout": "IPY_MODEL_e7af82cc9ae54dd882e0e5a3ccc02ac0",
            "placeholder": "​",
            "style": "IPY_MODEL_da97157c8eca4a7ab2cdccd2bec27a1f",
            "value": "100%"
          }
        },
        "5c37e6585ab44ce1aa7a83374f1c5e3c": {
          "model_module": "@jupyter-widgets/controls",
          "model_name": "FloatProgressModel",
          "model_module_version": "1.5.0",
          "state": {
            "_dom_classes": [],
            "_model_module": "@jupyter-widgets/controls",
            "_model_module_version": "1.5.0",
            "_model_name": "FloatProgressModel",
            "_view_count": null,
            "_view_module": "@jupyter-widgets/controls",
            "_view_module_version": "1.5.0",
            "_view_name": "ProgressView",
            "bar_style": "success",
            "description": "",
            "description_tooltip": null,
            "layout": "IPY_MODEL_6de13075192d4224a324c97fe0ab14f1",
            "max": 25,
            "min": 0,
            "orientation": "horizontal",
            "style": "IPY_MODEL_83afb891fd874fd4801307ef944074c0",
            "value": 25
          }
        },
        "c606778469894878b7947c9a6e5f0a5b": {
          "model_module": "@jupyter-widgets/controls",
          "model_name": "HTMLModel",
          "model_module_version": "1.5.0",
          "state": {
            "_dom_classes": [],
            "_model_module": "@jupyter-widgets/controls",
            "_model_module_version": "1.5.0",
            "_model_name": "HTMLModel",
            "_view_count": null,
            "_view_module": "@jupyter-widgets/controls",
            "_view_module_version": "1.5.0",
            "_view_name": "HTMLView",
            "description": "",
            "description_tooltip": null,
            "layout": "IPY_MODEL_96358f0876cc4f6390b36fac6d3012ba",
            "placeholder": "​",
            "style": "IPY_MODEL_64de2a5c002a482fb7ced109e91bc5cb",
            "value": " 25/25 [00:00&lt;00:00, 87.05it/s]"
          }
        },
        "b5b26b8ef56f4cce9d2b631797f870a6": {
          "model_module": "@jupyter-widgets/base",
          "model_name": "LayoutModel",
          "model_module_version": "1.2.0",
          "state": {
            "_model_module": "@jupyter-widgets/base",
            "_model_module_version": "1.2.0",
            "_model_name": "LayoutModel",
            "_view_count": null,
            "_view_module": "@jupyter-widgets/base",
            "_view_module_version": "1.2.0",
            "_view_name": "LayoutView",
            "align_content": null,
            "align_items": null,
            "align_self": null,
            "border": null,
            "bottom": null,
            "display": null,
            "flex": null,
            "flex_flow": null,
            "grid_area": null,
            "grid_auto_columns": null,
            "grid_auto_flow": null,
            "grid_auto_rows": null,
            "grid_column": null,
            "grid_gap": null,
            "grid_row": null,
            "grid_template_areas": null,
            "grid_template_columns": null,
            "grid_template_rows": null,
            "height": null,
            "justify_content": null,
            "justify_items": null,
            "left": null,
            "margin": null,
            "max_height": null,
            "max_width": null,
            "min_height": null,
            "min_width": null,
            "object_fit": null,
            "object_position": null,
            "order": null,
            "overflow": null,
            "overflow_x": null,
            "overflow_y": null,
            "padding": null,
            "right": null,
            "top": null,
            "visibility": null,
            "width": null
          }
        },
        "e7af82cc9ae54dd882e0e5a3ccc02ac0": {
          "model_module": "@jupyter-widgets/base",
          "model_name": "LayoutModel",
          "model_module_version": "1.2.0",
          "state": {
            "_model_module": "@jupyter-widgets/base",
            "_model_module_version": "1.2.0",
            "_model_name": "LayoutModel",
            "_view_count": null,
            "_view_module": "@jupyter-widgets/base",
            "_view_module_version": "1.2.0",
            "_view_name": "LayoutView",
            "align_content": null,
            "align_items": null,
            "align_self": null,
            "border": null,
            "bottom": null,
            "display": null,
            "flex": null,
            "flex_flow": null,
            "grid_area": null,
            "grid_auto_columns": null,
            "grid_auto_flow": null,
            "grid_auto_rows": null,
            "grid_column": null,
            "grid_gap": null,
            "grid_row": null,
            "grid_template_areas": null,
            "grid_template_columns": null,
            "grid_template_rows": null,
            "height": null,
            "justify_content": null,
            "justify_items": null,
            "left": null,
            "margin": null,
            "max_height": null,
            "max_width": null,
            "min_height": null,
            "min_width": null,
            "object_fit": null,
            "object_position": null,
            "order": null,
            "overflow": null,
            "overflow_x": null,
            "overflow_y": null,
            "padding": null,
            "right": null,
            "top": null,
            "visibility": null,
            "width": null
          }
        },
        "da97157c8eca4a7ab2cdccd2bec27a1f": {
          "model_module": "@jupyter-widgets/controls",
          "model_name": "DescriptionStyleModel",
          "model_module_version": "1.5.0",
          "state": {
            "_model_module": "@jupyter-widgets/controls",
            "_model_module_version": "1.5.0",
            "_model_name": "DescriptionStyleModel",
            "_view_count": null,
            "_view_module": "@jupyter-widgets/base",
            "_view_module_version": "1.2.0",
            "_view_name": "StyleView",
            "description_width": ""
          }
        },
        "6de13075192d4224a324c97fe0ab14f1": {
          "model_module": "@jupyter-widgets/base",
          "model_name": "LayoutModel",
          "model_module_version": "1.2.0",
          "state": {
            "_model_module": "@jupyter-widgets/base",
            "_model_module_version": "1.2.0",
            "_model_name": "LayoutModel",
            "_view_count": null,
            "_view_module": "@jupyter-widgets/base",
            "_view_module_version": "1.2.0",
            "_view_name": "LayoutView",
            "align_content": null,
            "align_items": null,
            "align_self": null,
            "border": null,
            "bottom": null,
            "display": null,
            "flex": null,
            "flex_flow": null,
            "grid_area": null,
            "grid_auto_columns": null,
            "grid_auto_flow": null,
            "grid_auto_rows": null,
            "grid_column": null,
            "grid_gap": null,
            "grid_row": null,
            "grid_template_areas": null,
            "grid_template_columns": null,
            "grid_template_rows": null,
            "height": null,
            "justify_content": null,
            "justify_items": null,
            "left": null,
            "margin": null,
            "max_height": null,
            "max_width": null,
            "min_height": null,
            "min_width": null,
            "object_fit": null,
            "object_position": null,
            "order": null,
            "overflow": null,
            "overflow_x": null,
            "overflow_y": null,
            "padding": null,
            "right": null,
            "top": null,
            "visibility": null,
            "width": null
          }
        },
        "83afb891fd874fd4801307ef944074c0": {
          "model_module": "@jupyter-widgets/controls",
          "model_name": "ProgressStyleModel",
          "model_module_version": "1.5.0",
          "state": {
            "_model_module": "@jupyter-widgets/controls",
            "_model_module_version": "1.5.0",
            "_model_name": "ProgressStyleModel",
            "_view_count": null,
            "_view_module": "@jupyter-widgets/base",
            "_view_module_version": "1.2.0",
            "_view_name": "StyleView",
            "bar_color": null,
            "description_width": ""
          }
        },
        "96358f0876cc4f6390b36fac6d3012ba": {
          "model_module": "@jupyter-widgets/base",
          "model_name": "LayoutModel",
          "model_module_version": "1.2.0",
          "state": {
            "_model_module": "@jupyter-widgets/base",
            "_model_module_version": "1.2.0",
            "_model_name": "LayoutModel",
            "_view_count": null,
            "_view_module": "@jupyter-widgets/base",
            "_view_module_version": "1.2.0",
            "_view_name": "LayoutView",
            "align_content": null,
            "align_items": null,
            "align_self": null,
            "border": null,
            "bottom": null,
            "display": null,
            "flex": null,
            "flex_flow": null,
            "grid_area": null,
            "grid_auto_columns": null,
            "grid_auto_flow": null,
            "grid_auto_rows": null,
            "grid_column": null,
            "grid_gap": null,
            "grid_row": null,
            "grid_template_areas": null,
            "grid_template_columns": null,
            "grid_template_rows": null,
            "height": null,
            "justify_content": null,
            "justify_items": null,
            "left": null,
            "margin": null,
            "max_height": null,
            "max_width": null,
            "min_height": null,
            "min_width": null,
            "object_fit": null,
            "object_position": null,
            "order": null,
            "overflow": null,
            "overflow_x": null,
            "overflow_y": null,
            "padding": null,
            "right": null,
            "top": null,
            "visibility": null,
            "width": null
          }
        },
        "64de2a5c002a482fb7ced109e91bc5cb": {
          "model_module": "@jupyter-widgets/controls",
          "model_name": "DescriptionStyleModel",
          "model_module_version": "1.5.0",
          "state": {
            "_model_module": "@jupyter-widgets/controls",
            "_model_module_version": "1.5.0",
            "_model_name": "DescriptionStyleModel",
            "_view_count": null,
            "_view_module": "@jupyter-widgets/base",
            "_view_module_version": "1.2.0",
            "_view_name": "StyleView",
            "description_width": ""
          }
        },
        "63a56d13eaff461f9227342d27baba60": {
          "model_module": "@jupyter-widgets/controls",
          "model_name": "HBoxModel",
          "model_module_version": "1.5.0",
          "state": {
            "_dom_classes": [],
            "_model_module": "@jupyter-widgets/controls",
            "_model_module_version": "1.5.0",
            "_model_name": "HBoxModel",
            "_view_count": null,
            "_view_module": "@jupyter-widgets/controls",
            "_view_module_version": "1.5.0",
            "_view_name": "HBoxView",
            "box_style": "",
            "children": [
              "IPY_MODEL_4c9441d7a4204450adedcf64c152261b",
              "IPY_MODEL_d85e3d6f8a524fa593daa97e269d4f3f",
              "IPY_MODEL_97e386bb29d447bdb815f7a13f56215d"
            ],
            "layout": "IPY_MODEL_ab3710cee2074cee94d2ba23eadeb9dd"
          }
        },
        "4c9441d7a4204450adedcf64c152261b": {
          "model_module": "@jupyter-widgets/controls",
          "model_name": "HTMLModel",
          "model_module_version": "1.5.0",
          "state": {
            "_dom_classes": [],
            "_model_module": "@jupyter-widgets/controls",
            "_model_module_version": "1.5.0",
            "_model_name": "HTMLModel",
            "_view_count": null,
            "_view_module": "@jupyter-widgets/controls",
            "_view_module_version": "1.5.0",
            "_view_name": "HTMLView",
            "description": "",
            "description_tooltip": null,
            "layout": "IPY_MODEL_a0ae76dd54254a4bb91fede707c4d435",
            "placeholder": "​",
            "style": "IPY_MODEL_f9ddf4eea02e43eabfbfd90bec050732",
            "value": "100%"
          }
        },
        "d85e3d6f8a524fa593daa97e269d4f3f": {
          "model_module": "@jupyter-widgets/controls",
          "model_name": "FloatProgressModel",
          "model_module_version": "1.5.0",
          "state": {
            "_dom_classes": [],
            "_model_module": "@jupyter-widgets/controls",
            "_model_module_version": "1.5.0",
            "_model_name": "FloatProgressModel",
            "_view_count": null,
            "_view_module": "@jupyter-widgets/controls",
            "_view_module_version": "1.5.0",
            "_view_name": "ProgressView",
            "bar_style": "success",
            "description": "",
            "description_tooltip": null,
            "layout": "IPY_MODEL_3459348f2e644851806235237b45aa85",
            "max": 25,
            "min": 0,
            "orientation": "horizontal",
            "style": "IPY_MODEL_9e3f98ab4ce74f3b8057e51866a822be",
            "value": 25
          }
        },
        "97e386bb29d447bdb815f7a13f56215d": {
          "model_module": "@jupyter-widgets/controls",
          "model_name": "HTMLModel",
          "model_module_version": "1.5.0",
          "state": {
            "_dom_classes": [],
            "_model_module": "@jupyter-widgets/controls",
            "_model_module_version": "1.5.0",
            "_model_name": "HTMLModel",
            "_view_count": null,
            "_view_module": "@jupyter-widgets/controls",
            "_view_module_version": "1.5.0",
            "_view_name": "HTMLView",
            "description": "",
            "description_tooltip": null,
            "layout": "IPY_MODEL_a2a437a396794ac8a8582dc987e95a51",
            "placeholder": "​",
            "style": "IPY_MODEL_e1cab43f97014710af4717b76d1fa654",
            "value": " 25/25 [00:18&lt;00:00,  1.08it/s]"
          }
        },
        "ab3710cee2074cee94d2ba23eadeb9dd": {
          "model_module": "@jupyter-widgets/base",
          "model_name": "LayoutModel",
          "model_module_version": "1.2.0",
          "state": {
            "_model_module": "@jupyter-widgets/base",
            "_model_module_version": "1.2.0",
            "_model_name": "LayoutModel",
            "_view_count": null,
            "_view_module": "@jupyter-widgets/base",
            "_view_module_version": "1.2.0",
            "_view_name": "LayoutView",
            "align_content": null,
            "align_items": null,
            "align_self": null,
            "border": null,
            "bottom": null,
            "display": null,
            "flex": null,
            "flex_flow": null,
            "grid_area": null,
            "grid_auto_columns": null,
            "grid_auto_flow": null,
            "grid_auto_rows": null,
            "grid_column": null,
            "grid_gap": null,
            "grid_row": null,
            "grid_template_areas": null,
            "grid_template_columns": null,
            "grid_template_rows": null,
            "height": null,
            "justify_content": null,
            "justify_items": null,
            "left": null,
            "margin": null,
            "max_height": null,
            "max_width": null,
            "min_height": null,
            "min_width": null,
            "object_fit": null,
            "object_position": null,
            "order": null,
            "overflow": null,
            "overflow_x": null,
            "overflow_y": null,
            "padding": null,
            "right": null,
            "top": null,
            "visibility": null,
            "width": null
          }
        },
        "a0ae76dd54254a4bb91fede707c4d435": {
          "model_module": "@jupyter-widgets/base",
          "model_name": "LayoutModel",
          "model_module_version": "1.2.0",
          "state": {
            "_model_module": "@jupyter-widgets/base",
            "_model_module_version": "1.2.0",
            "_model_name": "LayoutModel",
            "_view_count": null,
            "_view_module": "@jupyter-widgets/base",
            "_view_module_version": "1.2.0",
            "_view_name": "LayoutView",
            "align_content": null,
            "align_items": null,
            "align_self": null,
            "border": null,
            "bottom": null,
            "display": null,
            "flex": null,
            "flex_flow": null,
            "grid_area": null,
            "grid_auto_columns": null,
            "grid_auto_flow": null,
            "grid_auto_rows": null,
            "grid_column": null,
            "grid_gap": null,
            "grid_row": null,
            "grid_template_areas": null,
            "grid_template_columns": null,
            "grid_template_rows": null,
            "height": null,
            "justify_content": null,
            "justify_items": null,
            "left": null,
            "margin": null,
            "max_height": null,
            "max_width": null,
            "min_height": null,
            "min_width": null,
            "object_fit": null,
            "object_position": null,
            "order": null,
            "overflow": null,
            "overflow_x": null,
            "overflow_y": null,
            "padding": null,
            "right": null,
            "top": null,
            "visibility": null,
            "width": null
          }
        },
        "f9ddf4eea02e43eabfbfd90bec050732": {
          "model_module": "@jupyter-widgets/controls",
          "model_name": "DescriptionStyleModel",
          "model_module_version": "1.5.0",
          "state": {
            "_model_module": "@jupyter-widgets/controls",
            "_model_module_version": "1.5.0",
            "_model_name": "DescriptionStyleModel",
            "_view_count": null,
            "_view_module": "@jupyter-widgets/base",
            "_view_module_version": "1.2.0",
            "_view_name": "StyleView",
            "description_width": ""
          }
        },
        "3459348f2e644851806235237b45aa85": {
          "model_module": "@jupyter-widgets/base",
          "model_name": "LayoutModel",
          "model_module_version": "1.2.0",
          "state": {
            "_model_module": "@jupyter-widgets/base",
            "_model_module_version": "1.2.0",
            "_model_name": "LayoutModel",
            "_view_count": null,
            "_view_module": "@jupyter-widgets/base",
            "_view_module_version": "1.2.0",
            "_view_name": "LayoutView",
            "align_content": null,
            "align_items": null,
            "align_self": null,
            "border": null,
            "bottom": null,
            "display": null,
            "flex": null,
            "flex_flow": null,
            "grid_area": null,
            "grid_auto_columns": null,
            "grid_auto_flow": null,
            "grid_auto_rows": null,
            "grid_column": null,
            "grid_gap": null,
            "grid_row": null,
            "grid_template_areas": null,
            "grid_template_columns": null,
            "grid_template_rows": null,
            "height": null,
            "justify_content": null,
            "justify_items": null,
            "left": null,
            "margin": null,
            "max_height": null,
            "max_width": null,
            "min_height": null,
            "min_width": null,
            "object_fit": null,
            "object_position": null,
            "order": null,
            "overflow": null,
            "overflow_x": null,
            "overflow_y": null,
            "padding": null,
            "right": null,
            "top": null,
            "visibility": null,
            "width": null
          }
        },
        "9e3f98ab4ce74f3b8057e51866a822be": {
          "model_module": "@jupyter-widgets/controls",
          "model_name": "ProgressStyleModel",
          "model_module_version": "1.5.0",
          "state": {
            "_model_module": "@jupyter-widgets/controls",
            "_model_module_version": "1.5.0",
            "_model_name": "ProgressStyleModel",
            "_view_count": null,
            "_view_module": "@jupyter-widgets/base",
            "_view_module_version": "1.2.0",
            "_view_name": "StyleView",
            "bar_color": null,
            "description_width": ""
          }
        },
        "a2a437a396794ac8a8582dc987e95a51": {
          "model_module": "@jupyter-widgets/base",
          "model_name": "LayoutModel",
          "model_module_version": "1.2.0",
          "state": {
            "_model_module": "@jupyter-widgets/base",
            "_model_module_version": "1.2.0",
            "_model_name": "LayoutModel",
            "_view_count": null,
            "_view_module": "@jupyter-widgets/base",
            "_view_module_version": "1.2.0",
            "_view_name": "LayoutView",
            "align_content": null,
            "align_items": null,
            "align_self": null,
            "border": null,
            "bottom": null,
            "display": null,
            "flex": null,
            "flex_flow": null,
            "grid_area": null,
            "grid_auto_columns": null,
            "grid_auto_flow": null,
            "grid_auto_rows": null,
            "grid_column": null,
            "grid_gap": null,
            "grid_row": null,
            "grid_template_areas": null,
            "grid_template_columns": null,
            "grid_template_rows": null,
            "height": null,
            "justify_content": null,
            "justify_items": null,
            "left": null,
            "margin": null,
            "max_height": null,
            "max_width": null,
            "min_height": null,
            "min_width": null,
            "object_fit": null,
            "object_position": null,
            "order": null,
            "overflow": null,
            "overflow_x": null,
            "overflow_y": null,
            "padding": null,
            "right": null,
            "top": null,
            "visibility": null,
            "width": null
          }
        },
        "e1cab43f97014710af4717b76d1fa654": {
          "model_module": "@jupyter-widgets/controls",
          "model_name": "DescriptionStyleModel",
          "model_module_version": "1.5.0",
          "state": {
            "_model_module": "@jupyter-widgets/controls",
            "_model_module_version": "1.5.0",
            "_model_name": "DescriptionStyleModel",
            "_view_count": null,
            "_view_module": "@jupyter-widgets/base",
            "_view_module_version": "1.2.0",
            "_view_name": "StyleView",
            "description_width": ""
          }
        }
      }
    }
  },
  "cells": [
    {
      "cell_type": "markdown",
      "source": [
        "# *Imports*\n"
      ],
      "metadata": {
        "id": "SbuUBWdUYuts"
      }
    },
    {
      "cell_type": "code",
      "execution_count": null,
      "metadata": {
        "id": "zRVCu-pZ1bp4",
        "colab": {
          "base_uri": "https://localhost:8080/"
        },
        "outputId": "757ff2cf-0ae8-43a9-9137-528cfc629878"
      },
      "outputs": [
        {
          "output_type": "stream",
          "name": "stderr",
          "text": [
            "[nltk_data] Downloading package punkt to /root/nltk_data...\n",
            "[nltk_data]   Package punkt is already up-to-date!\n",
            "[nltk_data] Downloading package averaged_perceptron_tagger to\n",
            "[nltk_data]     /root/nltk_data...\n",
            "[nltk_data]   Package averaged_perceptron_tagger is already up-to-\n",
            "[nltk_data]       date!\n",
            "[nltk_data] Downloading package maxent_ne_chunker to\n",
            "[nltk_data]     /root/nltk_data...\n",
            "[nltk_data]   Package maxent_ne_chunker is already up-to-date!\n",
            "[nltk_data] Downloading package words to /root/nltk_data...\n",
            "[nltk_data]   Package words is already up-to-date!\n"
          ]
        },
        {
          "output_type": "execute_result",
          "data": {
            "text/plain": [
              "True"
            ]
          },
          "metadata": {},
          "execution_count": 89
        }
      ],
      "source": [
        "import pandas as pd \n",
        "import numpy as np\n",
        "import matplotlib.pyplot as plt\n",
        "import seaborn as sns\n",
        "\n",
        "plt.style.use('ggplot')\n",
        "import nltk\n",
        "nltk.download('punkt')\n",
        "nltk.download('averaged_perceptron_tagger')\n",
        "nltk.download('maxent_ne_chunker')\n",
        "nltk.download('words')"
      ]
    },
    {
      "cell_type": "markdown",
      "source": [
        "# *Load Data , train on first 500 examples only because of the computation cost of the roberta model*"
      ],
      "metadata": {
        "id": "aZONxBsaZARK"
      }
    },
    {
      "cell_type": "code",
      "source": [
        "df = pd.read_csv('ancmm.csv')\n",
        "df = df.head(100)\n"
      ],
      "metadata": {
        "id": "Fr7gSjCn18ao"
      },
      "execution_count": null,
      "outputs": []
    },
    {
      "cell_type": "code",
      "source": [
        "df.head()"
      ],
      "metadata": {
        "id": "MuXxI3uR7kIg",
        "colab": {
          "base_uri": "https://localhost:8080/",
          "height": 206
        },
        "outputId": "00a7e466-6c1c-4fa5-e2cb-4038b040363e"
      },
      "execution_count": null,
      "outputs": [
        {
          "output_type": "execute_result",
          "data": {
            "text/plain": [
              "   Unnamed: 0                                            comment\n",
              "0           0  Confidently directed, dark, brooding, and pack...\n",
              "1           1  I got to see The Dark Knight on Wednesday nigh...\n",
              "2           2  This movie is a work of art. The finest sequel...\n",
              "3           3  I think that I could wax lyrical but this movi...\n",
              "4           4  It is just what you want for the best movie. G..."
            ],
            "text/html": [
              "\n",
              "  <div id=\"df-c5dc602c-e5b9-430b-8ed9-1daf421c8657\">\n",
              "    <div class=\"colab-df-container\">\n",
              "      <div>\n",
              "<style scoped>\n",
              "    .dataframe tbody tr th:only-of-type {\n",
              "        vertical-align: middle;\n",
              "    }\n",
              "\n",
              "    .dataframe tbody tr th {\n",
              "        vertical-align: top;\n",
              "    }\n",
              "\n",
              "    .dataframe thead th {\n",
              "        text-align: right;\n",
              "    }\n",
              "</style>\n",
              "<table border=\"1\" class=\"dataframe\">\n",
              "  <thead>\n",
              "    <tr style=\"text-align: right;\">\n",
              "      <th></th>\n",
              "      <th>Unnamed: 0</th>\n",
              "      <th>comment</th>\n",
              "    </tr>\n",
              "  </thead>\n",
              "  <tbody>\n",
              "    <tr>\n",
              "      <th>0</th>\n",
              "      <td>0</td>\n",
              "      <td>Confidently directed, dark, brooding, and pack...</td>\n",
              "    </tr>\n",
              "    <tr>\n",
              "      <th>1</th>\n",
              "      <td>1</td>\n",
              "      <td>I got to see The Dark Knight on Wednesday nigh...</td>\n",
              "    </tr>\n",
              "    <tr>\n",
              "      <th>2</th>\n",
              "      <td>2</td>\n",
              "      <td>This movie is a work of art. The finest sequel...</td>\n",
              "    </tr>\n",
              "    <tr>\n",
              "      <th>3</th>\n",
              "      <td>3</td>\n",
              "      <td>I think that I could wax lyrical but this movi...</td>\n",
              "    </tr>\n",
              "    <tr>\n",
              "      <th>4</th>\n",
              "      <td>4</td>\n",
              "      <td>It is just what you want for the best movie. G...</td>\n",
              "    </tr>\n",
              "  </tbody>\n",
              "</table>\n",
              "</div>\n",
              "      <button class=\"colab-df-convert\" onclick=\"convertToInteractive('df-c5dc602c-e5b9-430b-8ed9-1daf421c8657')\"\n",
              "              title=\"Convert this dataframe to an interactive table.\"\n",
              "              style=\"display:none;\">\n",
              "        \n",
              "  <svg xmlns=\"http://www.w3.org/2000/svg\" height=\"24px\"viewBox=\"0 0 24 24\"\n",
              "       width=\"24px\">\n",
              "    <path d=\"M0 0h24v24H0V0z\" fill=\"none\"/>\n",
              "    <path d=\"M18.56 5.44l.94 2.06.94-2.06 2.06-.94-2.06-.94-.94-2.06-.94 2.06-2.06.94zm-11 1L8.5 8.5l.94-2.06 2.06-.94-2.06-.94L8.5 2.5l-.94 2.06-2.06.94zm10 10l.94 2.06.94-2.06 2.06-.94-2.06-.94-.94-2.06-.94 2.06-2.06.94z\"/><path d=\"M17.41 7.96l-1.37-1.37c-.4-.4-.92-.59-1.43-.59-.52 0-1.04.2-1.43.59L10.3 9.45l-7.72 7.72c-.78.78-.78 2.05 0 2.83L4 21.41c.39.39.9.59 1.41.59.51 0 1.02-.2 1.41-.59l7.78-7.78 2.81-2.81c.8-.78.8-2.07 0-2.86zM5.41 20L4 18.59l7.72-7.72 1.47 1.35L5.41 20z\"/>\n",
              "  </svg>\n",
              "      </button>\n",
              "      \n",
              "  <style>\n",
              "    .colab-df-container {\n",
              "      display:flex;\n",
              "      flex-wrap:wrap;\n",
              "      gap: 12px;\n",
              "    }\n",
              "\n",
              "    .colab-df-convert {\n",
              "      background-color: #E8F0FE;\n",
              "      border: none;\n",
              "      border-radius: 50%;\n",
              "      cursor: pointer;\n",
              "      display: none;\n",
              "      fill: #1967D2;\n",
              "      height: 32px;\n",
              "      padding: 0 0 0 0;\n",
              "      width: 32px;\n",
              "    }\n",
              "\n",
              "    .colab-df-convert:hover {\n",
              "      background-color: #E2EBFA;\n",
              "      box-shadow: 0px 1px 2px rgba(60, 64, 67, 0.3), 0px 1px 3px 1px rgba(60, 64, 67, 0.15);\n",
              "      fill: #174EA6;\n",
              "    }\n",
              "\n",
              "    [theme=dark] .colab-df-convert {\n",
              "      background-color: #3B4455;\n",
              "      fill: #D2E3FC;\n",
              "    }\n",
              "\n",
              "    [theme=dark] .colab-df-convert:hover {\n",
              "      background-color: #434B5C;\n",
              "      box-shadow: 0px 1px 3px 1px rgba(0, 0, 0, 0.15);\n",
              "      filter: drop-shadow(0px 1px 2px rgba(0, 0, 0, 0.3));\n",
              "      fill: #FFFFFF;\n",
              "    }\n",
              "  </style>\n",
              "\n",
              "      <script>\n",
              "        const buttonEl =\n",
              "          document.querySelector('#df-c5dc602c-e5b9-430b-8ed9-1daf421c8657 button.colab-df-convert');\n",
              "        buttonEl.style.display =\n",
              "          google.colab.kernel.accessAllowed ? 'block' : 'none';\n",
              "\n",
              "        async function convertToInteractive(key) {\n",
              "          const element = document.querySelector('#df-c5dc602c-e5b9-430b-8ed9-1daf421c8657');\n",
              "          const dataTable =\n",
              "            await google.colab.kernel.invokeFunction('convertToInteractive',\n",
              "                                                     [key], {});\n",
              "          if (!dataTable) return;\n",
              "\n",
              "          const docLinkHtml = 'Like what you see? Visit the ' +\n",
              "            '<a target=\"_blank\" href=https://colab.research.google.com/notebooks/data_table.ipynb>data table notebook</a>'\n",
              "            + ' to learn more about interactive tables.';\n",
              "          element.innerHTML = '';\n",
              "          dataTable['output_type'] = 'display_data';\n",
              "          await google.colab.output.renderOutput(dataTable, element);\n",
              "          const docLink = document.createElement('div');\n",
              "          docLink.innerHTML = docLinkHtml;\n",
              "          element.appendChild(docLink);\n",
              "        }\n",
              "      </script>\n",
              "    </div>\n",
              "  </div>\n",
              "  "
            ]
          },
          "metadata": {},
          "execution_count": 91
        }
      ]
    },
    {
      "cell_type": "code",
      "source": [
        "print(df.shape)\n"
      ],
      "metadata": {
        "id": "7PJKOw27TPF9",
        "colab": {
          "base_uri": "https://localhost:8080/"
        },
        "outputId": "6a02b71e-d0ce-46f3-b700-731e95e5d193"
      },
      "execution_count": null,
      "outputs": [
        {
          "output_type": "stream",
          "name": "stdout",
          "text": [
            "(25, 2)\n"
          ]
        }
      ]
    },
    {
      "cell_type": "markdown",
      "source": [
        "# *Some Ground level NLTK*"
      ],
      "metadata": {
        "id": "qmSZIFHPfA3U"
      }
    },
    {
      "cell_type": "code",
      "source": [
        "example = df['comment'][0]\n"
      ],
      "metadata": {
        "id": "Kp-Cw6BtWW0N"
      },
      "execution_count": null,
      "outputs": []
    },
    {
      "cell_type": "code",
      "source": [
        "example"
      ],
      "metadata": {
        "id": "l8JgXD_bWY0k",
        "colab": {
          "base_uri": "https://localhost:8080/",
          "height": 53
        },
        "outputId": "72703df4-0ce6-478d-b227-146cdf0629aa"
      },
      "execution_count": null,
      "outputs": [
        {
          "output_type": "execute_result",
          "data": {
            "text/plain": [
              "'Confidently directed, dark, brooding, and packed with impressive action sequences and a complex story, The Dark Knight includes a career-defining turn from Heath Ledger as well as other Oscar worthy performances, TDK remains not only the best Batman movie, but comic book movie ever created.'"
            ],
            "application/vnd.google.colaboratory.intrinsic+json": {
              "type": "string"
            }
          },
          "metadata": {},
          "execution_count": 94
        }
      ]
    },
    {
      "cell_type": "markdown",
      "source": [
        "**Tokenization of the words and different syllables**"
      ],
      "metadata": {
        "id": "9lq-sVfkyZ1O"
      }
    },
    {
      "cell_type": "code",
      "source": [
        "tokens = nltk.word_tokenize(example)\n",
        "tokens"
      ],
      "metadata": {
        "id": "BzglnoUwxlJ9",
        "colab": {
          "base_uri": "https://localhost:8080/"
        },
        "outputId": "ee6b562d-8b54-4079-a637-e223094d7c36"
      },
      "execution_count": null,
      "outputs": [
        {
          "output_type": "execute_result",
          "data": {
            "text/plain": [
              "['Confidently',\n",
              " 'directed',\n",
              " ',',\n",
              " 'dark',\n",
              " ',',\n",
              " 'brooding',\n",
              " ',',\n",
              " 'and',\n",
              " 'packed',\n",
              " 'with',\n",
              " 'impressive',\n",
              " 'action',\n",
              " 'sequences',\n",
              " 'and',\n",
              " 'a',\n",
              " 'complex',\n",
              " 'story',\n",
              " ',',\n",
              " 'The',\n",
              " 'Dark',\n",
              " 'Knight',\n",
              " 'includes',\n",
              " 'a',\n",
              " 'career-defining',\n",
              " 'turn',\n",
              " 'from',\n",
              " 'Heath',\n",
              " 'Ledger',\n",
              " 'as',\n",
              " 'well',\n",
              " 'as',\n",
              " 'other',\n",
              " 'Oscar',\n",
              " 'worthy',\n",
              " 'performances',\n",
              " ',',\n",
              " 'TDK',\n",
              " 'remains',\n",
              " 'not',\n",
              " 'only',\n",
              " 'the',\n",
              " 'best',\n",
              " 'Batman',\n",
              " 'movie',\n",
              " ',',\n",
              " 'but',\n",
              " 'comic',\n",
              " 'book',\n",
              " 'movie',\n",
              " 'ever',\n",
              " 'created',\n",
              " '.']"
            ]
          },
          "metadata": {},
          "execution_count": 95
        }
      ]
    },
    {
      "cell_type": "markdown",
      "source": [
        "**Tagging the different Tokens**"
      ],
      "metadata": {
        "id": "VECe6WLlynan"
      }
    },
    {
      "cell_type": "code",
      "source": [
        "tagged = nltk.pos_tag(tokens)\n",
        "tagged"
      ],
      "metadata": {
        "id": "8IZOvo4dyBqh",
        "colab": {
          "base_uri": "https://localhost:8080/"
        },
        "outputId": "3924eef3-9e6d-4ab9-c313-eed1b18e5446"
      },
      "execution_count": null,
      "outputs": [
        {
          "output_type": "execute_result",
          "data": {
            "text/plain": [
              "[('Confidently', 'RB'),\n",
              " ('directed', 'VBN'),\n",
              " (',', ','),\n",
              " ('dark', 'NN'),\n",
              " (',', ','),\n",
              " ('brooding', 'NN'),\n",
              " (',', ','),\n",
              " ('and', 'CC'),\n",
              " ('packed', 'VBD'),\n",
              " ('with', 'IN'),\n",
              " ('impressive', 'JJ'),\n",
              " ('action', 'NN'),\n",
              " ('sequences', 'NNS'),\n",
              " ('and', 'CC'),\n",
              " ('a', 'DT'),\n",
              " ('complex', 'JJ'),\n",
              " ('story', 'NN'),\n",
              " (',', ','),\n",
              " ('The', 'DT'),\n",
              " ('Dark', 'NNP'),\n",
              " ('Knight', 'NNP'),\n",
              " ('includes', 'VBZ'),\n",
              " ('a', 'DT'),\n",
              " ('career-defining', 'JJ'),\n",
              " ('turn', 'NN'),\n",
              " ('from', 'IN'),\n",
              " ('Heath', 'NNP'),\n",
              " ('Ledger', 'NNP'),\n",
              " ('as', 'RB'),\n",
              " ('well', 'RB'),\n",
              " ('as', 'IN'),\n",
              " ('other', 'JJ'),\n",
              " ('Oscar', 'NNP'),\n",
              " ('worthy', 'JJ'),\n",
              " ('performances', 'NNS'),\n",
              " (',', ','),\n",
              " ('TDK', 'NNP'),\n",
              " ('remains', 'VBZ'),\n",
              " ('not', 'RB'),\n",
              " ('only', 'RB'),\n",
              " ('the', 'DT'),\n",
              " ('best', 'JJS'),\n",
              " ('Batman', 'NNP'),\n",
              " ('movie', 'NN'),\n",
              " (',', ','),\n",
              " ('but', 'CC'),\n",
              " ('comic', 'JJ'),\n",
              " ('book', 'NN'),\n",
              " ('movie', 'NN'),\n",
              " ('ever', 'RB'),\n",
              " ('created', 'VBN'),\n",
              " ('.', '.')]"
            ]
          },
          "metadata": {},
          "execution_count": 96
        }
      ]
    },
    {
      "cell_type": "markdown",
      "source": [
        "**Putting Tagged Tokens into different Chunks (groups)**"
      ],
      "metadata": {
        "id": "O2DB18fgyuxE"
      }
    },
    {
      "cell_type": "code",
      "source": [
        "entities = nltk.chunk.ne_chunk(tagged)\n",
        "entities.pprint()"
      ],
      "metadata": {
        "id": "z5lmisP3yLaw",
        "colab": {
          "base_uri": "https://localhost:8080/"
        },
        "outputId": "b0641329-b1da-4b15-fced-42283844b950"
      },
      "execution_count": null,
      "outputs": [
        {
          "output_type": "stream",
          "name": "stdout",
          "text": [
            "(S\n",
            "  Confidently/RB\n",
            "  directed/VBN\n",
            "  ,/,\n",
            "  dark/NN\n",
            "  ,/,\n",
            "  brooding/NN\n",
            "  ,/,\n",
            "  and/CC\n",
            "  packed/VBD\n",
            "  with/IN\n",
            "  impressive/JJ\n",
            "  action/NN\n",
            "  sequences/NNS\n",
            "  and/CC\n",
            "  a/DT\n",
            "  complex/JJ\n",
            "  story/NN\n",
            "  ,/,\n",
            "  The/DT\n",
            "  (ORGANIZATION Dark/NNP Knight/NNP)\n",
            "  includes/VBZ\n",
            "  a/DT\n",
            "  career-defining/JJ\n",
            "  turn/NN\n",
            "  from/IN\n",
            "  (PERSON Heath/NNP Ledger/NNP)\n",
            "  as/RB\n",
            "  well/RB\n",
            "  as/IN\n",
            "  other/JJ\n",
            "  Oscar/NNP\n",
            "  worthy/JJ\n",
            "  performances/NNS\n",
            "  ,/,\n",
            "  (ORGANIZATION TDK/NNP)\n",
            "  remains/VBZ\n",
            "  not/RB\n",
            "  only/RB\n",
            "  the/DT\n",
            "  best/JJS\n",
            "  (PERSON Batman/NNP)\n",
            "  movie/NN\n",
            "  ,/,\n",
            "  but/CC\n",
            "  comic/JJ\n",
            "  book/NN\n",
            "  movie/NN\n",
            "  ever/RB\n",
            "  created/VBN\n",
            "  ./.)\n"
          ]
        }
      ]
    },
    {
      "cell_type": "markdown",
      "source": [
        "# *Old School Approach : VADER Sentiment Scoring*"
      ],
      "metadata": {
        "id": "A0IK4qkuhw97"
      }
    },
    {
      "cell_type": "code",
      "source": [
        "from nltk.sentiment import SentimentIntensityAnalyzer\n",
        "from tqdm.notebook import tqdm\n",
        "nltk.download('vader_lexicon')\n",
        "sia = SentimentIntensityAnalyzer()"
      ],
      "metadata": {
        "id": "ekk-acuKh1Bs",
        "colab": {
          "base_uri": "https://localhost:8080/"
        },
        "outputId": "571c952e-b1c5-4ed2-d17a-0e8759416596"
      },
      "execution_count": null,
      "outputs": [
        {
          "output_type": "stream",
          "name": "stderr",
          "text": [
            "[nltk_data] Downloading package vader_lexicon to /root/nltk_data...\n",
            "[nltk_data]   Package vader_lexicon is already up-to-date!\n"
          ]
        }
      ]
    },
    {
      "cell_type": "markdown",
      "source": [
        "**Model Vibe Check !**"
      ],
      "metadata": {
        "id": "ofh4Emlli8Ec"
      }
    },
    {
      "cell_type": "code",
      "source": [
        "sia.polarity_scores('VIVA TOUNIZI LETS GOOOO')"
      ],
      "metadata": {
        "id": "jkxXK8zQiSS8",
        "colab": {
          "base_uri": "https://localhost:8080/"
        },
        "outputId": "2892c72d-1235-4297-bf8f-531b016cb3b6"
      },
      "execution_count": null,
      "outputs": [
        {
          "output_type": "execute_result",
          "data": {
            "text/plain": [
              "{'neg': 0.0, 'neu': 1.0, 'pos': 0.0, 'compound': 0.0}"
            ]
          },
          "metadata": {},
          "execution_count": 99
        }
      ]
    },
    {
      "cell_type": "code",
      "source": [
        "sia.polarity_scores('FRANCA MA TERBA7CH >:(')"
      ],
      "metadata": {
        "id": "yS9nuDOCi_rc",
        "colab": {
          "base_uri": "https://localhost:8080/"
        },
        "outputId": "ba3ca5b8-7422-4042-e861-02cca9375b8b"
      },
      "execution_count": null,
      "outputs": [
        {
          "output_type": "execute_result",
          "data": {
            "text/plain": [
              "{'neg': 0.552, 'neu': 0.448, 'pos': 0.0, 'compound': -0.5719}"
            ]
          },
          "metadata": {},
          "execution_count": 100
        }
      ]
    },
    {
      "cell_type": "markdown",
      "source": [
        "# *VADER Model on the whole dataset*"
      ],
      "metadata": {
        "id": "NdKjyiLvj13M"
      }
    },
    {
      "cell_type": "code",
      "source": [
        "res = {}\n",
        "for i, row in tqdm(df.iterrows(), total=len(df)):\n",
        "    text = row['comment']\n",
        "    myid = i\n",
        "    res[i] = sia.polarity_scores(text)\n",
        "res"
      ],
      "metadata": {
        "id": "XkgJkZhmj65N",
        "colab": {
          "base_uri": "https://localhost:8080/",
          "height": 483,
          "referenced_widgets": [
            "692e30d7d6c64d61833ff119ec7066b4",
            "bcad7d7df43f41638ff530e1eeff20c8",
            "5c37e6585ab44ce1aa7a83374f1c5e3c",
            "c606778469894878b7947c9a6e5f0a5b",
            "b5b26b8ef56f4cce9d2b631797f870a6",
            "e7af82cc9ae54dd882e0e5a3ccc02ac0",
            "da97157c8eca4a7ab2cdccd2bec27a1f",
            "6de13075192d4224a324c97fe0ab14f1",
            "83afb891fd874fd4801307ef944074c0",
            "96358f0876cc4f6390b36fac6d3012ba",
            "64de2a5c002a482fb7ced109e91bc5cb"
          ]
        },
        "outputId": "a661811d-044c-4bff-d1b7-ba8355c87da8"
      },
      "execution_count": null,
      "outputs": [
        {
          "output_type": "display_data",
          "data": {
            "text/plain": [
              "  0%|          | 0/25 [00:00<?, ?it/s]"
            ],
            "application/vnd.jupyter.widget-view+json": {
              "version_major": 2,
              "version_minor": 0,
              "model_id": "692e30d7d6c64d61833ff119ec7066b4"
            }
          },
          "metadata": {}
        },
        {
          "output_type": "execute_result",
          "data": {
            "text/plain": [
              "{0: {'neg': 0.044, 'neu': 0.728, 'pos': 0.228, 'compound': 0.7241},\n",
              " 1: {'neg': 0.117, 'neu': 0.737, 'pos': 0.146, 'compound': 0.9567},\n",
              " 2: {'neg': 0.0, 'neu': 0.581, 'pos': 0.419, 'compound': 0.9931},\n",
              " 3: {'neg': 0.057, 'neu': 0.793, 'pos': 0.15, 'compound': 0.9907},\n",
              " 4: {'neg': 0.0, 'neu': 0.609, 'pos': 0.391, 'compound': 0.9648},\n",
              " 5: {'neg': 0.058, 'neu': 0.722, 'pos': 0.22, 'compound': 0.9835},\n",
              " 6: {'neg': 0.062, 'neu': 0.722, 'pos': 0.216, 'compound': 0.9594},\n",
              " 7: {'neg': 0.041, 'neu': 0.766, 'pos': 0.193, 'compound': 0.9906},\n",
              " 8: {'neg': 0.111, 'neu': 0.667, 'pos': 0.222, 'compound': 0.9967},\n",
              " 9: {'neg': 0.13, 'neu': 0.682, 'pos': 0.188, 'compound': 0.9952},\n",
              " 10: {'neg': 0.0, 'neu': 0.606, 'pos': 0.394, 'compound': 0.8862},\n",
              " 11: {'neg': 0.078, 'neu': 0.647, 'pos': 0.275, 'compound': 0.8467},\n",
              " 12: {'neg': 0.089, 'neu': 0.741, 'pos': 0.17, 'compound': 0.9924},\n",
              " 13: {'neg': 0.054, 'neu': 0.822, 'pos': 0.124, 'compound': 0.9958},\n",
              " 14: {'neg': 0.091, 'neu': 0.811, 'pos': 0.098, 'compound': -0.0964},\n",
              " 15: {'neg': 0.053, 'neu': 0.757, 'pos': 0.189, 'compound': 0.8316},\n",
              " 16: {'neg': 0.087, 'neu': 0.76, 'pos': 0.153, 'compound': 0.9854},\n",
              " 17: {'neg': 0.069, 'neu': 0.767, 'pos': 0.164, 'compound': 0.9931},\n",
              " 18: {'neg': 0.054, 'neu': 0.735, 'pos': 0.212, 'compound': 0.9865},\n",
              " 19: {'neg': 0.06, 'neu': 0.765, 'pos': 0.175, 'compound': 0.9982},\n",
              " 20: {'neg': 0.046, 'neu': 0.84, 'pos': 0.114, 'compound': 0.9231},\n",
              " 21: {'neg': 0.0, 'neu': 0.3, 'pos': 0.7, 'compound': 0.9538},\n",
              " 22: {'neg': 0.0, 'neu': 0.695, 'pos': 0.305, 'compound': 0.9597},\n",
              " 23: {'neg': 0.089, 'neu': 0.634, 'pos': 0.276, 'compound': 0.975},\n",
              " 24: {'neg': 0.151, 'neu': 0.694, 'pos': 0.156, 'compound': 0.1884}}"
            ]
          },
          "metadata": {},
          "execution_count": 101
        }
      ]
    },
    {
      "cell_type": "code",
      "source": [
        "vaders = pd.DataFrame(res).T\n",
        "vaders = vaders.reset_index().rename(columns={'index': 'Movie Id'})\n",
        "vaders"
      ],
      "metadata": {
        "id": "TO2Bmm-0kKvM",
        "colab": {
          "base_uri": "https://localhost:8080/",
          "height": 833
        },
        "outputId": "a28bbf3d-28e4-4ad4-a71c-009130288686"
      },
      "execution_count": null,
      "outputs": [
        {
          "output_type": "execute_result",
          "data": {
            "text/plain": [
              "    Movie Id    neg    neu    pos  compound\n",
              "0          0  0.044  0.728  0.228    0.7241\n",
              "1          1  0.117  0.737  0.146    0.9567\n",
              "2          2  0.000  0.581  0.419    0.9931\n",
              "3          3  0.057  0.793  0.150    0.9907\n",
              "4          4  0.000  0.609  0.391    0.9648\n",
              "5          5  0.058  0.722  0.220    0.9835\n",
              "6          6  0.062  0.722  0.216    0.9594\n",
              "7          7  0.041  0.766  0.193    0.9906\n",
              "8          8  0.111  0.667  0.222    0.9967\n",
              "9          9  0.130  0.682  0.188    0.9952\n",
              "10        10  0.000  0.606  0.394    0.8862\n",
              "11        11  0.078  0.647  0.275    0.8467\n",
              "12        12  0.089  0.741  0.170    0.9924\n",
              "13        13  0.054  0.822  0.124    0.9958\n",
              "14        14  0.091  0.811  0.098   -0.0964\n",
              "15        15  0.053  0.757  0.189    0.8316\n",
              "16        16  0.087  0.760  0.153    0.9854\n",
              "17        17  0.069  0.767  0.164    0.9931\n",
              "18        18  0.054  0.735  0.212    0.9865\n",
              "19        19  0.060  0.765  0.175    0.9982\n",
              "20        20  0.046  0.840  0.114    0.9231\n",
              "21        21  0.000  0.300  0.700    0.9538\n",
              "22        22  0.000  0.695  0.305    0.9597\n",
              "23        23  0.089  0.634  0.276    0.9750\n",
              "24        24  0.151  0.694  0.156    0.1884"
            ],
            "text/html": [
              "\n",
              "  <div id=\"df-3dc5e3ea-83a3-4bc5-9b09-869b490b940c\">\n",
              "    <div class=\"colab-df-container\">\n",
              "      <div>\n",
              "<style scoped>\n",
              "    .dataframe tbody tr th:only-of-type {\n",
              "        vertical-align: middle;\n",
              "    }\n",
              "\n",
              "    .dataframe tbody tr th {\n",
              "        vertical-align: top;\n",
              "    }\n",
              "\n",
              "    .dataframe thead th {\n",
              "        text-align: right;\n",
              "    }\n",
              "</style>\n",
              "<table border=\"1\" class=\"dataframe\">\n",
              "  <thead>\n",
              "    <tr style=\"text-align: right;\">\n",
              "      <th></th>\n",
              "      <th>Movie Id</th>\n",
              "      <th>neg</th>\n",
              "      <th>neu</th>\n",
              "      <th>pos</th>\n",
              "      <th>compound</th>\n",
              "    </tr>\n",
              "  </thead>\n",
              "  <tbody>\n",
              "    <tr>\n",
              "      <th>0</th>\n",
              "      <td>0</td>\n",
              "      <td>0.044</td>\n",
              "      <td>0.728</td>\n",
              "      <td>0.228</td>\n",
              "      <td>0.7241</td>\n",
              "    </tr>\n",
              "    <tr>\n",
              "      <th>1</th>\n",
              "      <td>1</td>\n",
              "      <td>0.117</td>\n",
              "      <td>0.737</td>\n",
              "      <td>0.146</td>\n",
              "      <td>0.9567</td>\n",
              "    </tr>\n",
              "    <tr>\n",
              "      <th>2</th>\n",
              "      <td>2</td>\n",
              "      <td>0.000</td>\n",
              "      <td>0.581</td>\n",
              "      <td>0.419</td>\n",
              "      <td>0.9931</td>\n",
              "    </tr>\n",
              "    <tr>\n",
              "      <th>3</th>\n",
              "      <td>3</td>\n",
              "      <td>0.057</td>\n",
              "      <td>0.793</td>\n",
              "      <td>0.150</td>\n",
              "      <td>0.9907</td>\n",
              "    </tr>\n",
              "    <tr>\n",
              "      <th>4</th>\n",
              "      <td>4</td>\n",
              "      <td>0.000</td>\n",
              "      <td>0.609</td>\n",
              "      <td>0.391</td>\n",
              "      <td>0.9648</td>\n",
              "    </tr>\n",
              "    <tr>\n",
              "      <th>5</th>\n",
              "      <td>5</td>\n",
              "      <td>0.058</td>\n",
              "      <td>0.722</td>\n",
              "      <td>0.220</td>\n",
              "      <td>0.9835</td>\n",
              "    </tr>\n",
              "    <tr>\n",
              "      <th>6</th>\n",
              "      <td>6</td>\n",
              "      <td>0.062</td>\n",
              "      <td>0.722</td>\n",
              "      <td>0.216</td>\n",
              "      <td>0.9594</td>\n",
              "    </tr>\n",
              "    <tr>\n",
              "      <th>7</th>\n",
              "      <td>7</td>\n",
              "      <td>0.041</td>\n",
              "      <td>0.766</td>\n",
              "      <td>0.193</td>\n",
              "      <td>0.9906</td>\n",
              "    </tr>\n",
              "    <tr>\n",
              "      <th>8</th>\n",
              "      <td>8</td>\n",
              "      <td>0.111</td>\n",
              "      <td>0.667</td>\n",
              "      <td>0.222</td>\n",
              "      <td>0.9967</td>\n",
              "    </tr>\n",
              "    <tr>\n",
              "      <th>9</th>\n",
              "      <td>9</td>\n",
              "      <td>0.130</td>\n",
              "      <td>0.682</td>\n",
              "      <td>0.188</td>\n",
              "      <td>0.9952</td>\n",
              "    </tr>\n",
              "    <tr>\n",
              "      <th>10</th>\n",
              "      <td>10</td>\n",
              "      <td>0.000</td>\n",
              "      <td>0.606</td>\n",
              "      <td>0.394</td>\n",
              "      <td>0.8862</td>\n",
              "    </tr>\n",
              "    <tr>\n",
              "      <th>11</th>\n",
              "      <td>11</td>\n",
              "      <td>0.078</td>\n",
              "      <td>0.647</td>\n",
              "      <td>0.275</td>\n",
              "      <td>0.8467</td>\n",
              "    </tr>\n",
              "    <tr>\n",
              "      <th>12</th>\n",
              "      <td>12</td>\n",
              "      <td>0.089</td>\n",
              "      <td>0.741</td>\n",
              "      <td>0.170</td>\n",
              "      <td>0.9924</td>\n",
              "    </tr>\n",
              "    <tr>\n",
              "      <th>13</th>\n",
              "      <td>13</td>\n",
              "      <td>0.054</td>\n",
              "      <td>0.822</td>\n",
              "      <td>0.124</td>\n",
              "      <td>0.9958</td>\n",
              "    </tr>\n",
              "    <tr>\n",
              "      <th>14</th>\n",
              "      <td>14</td>\n",
              "      <td>0.091</td>\n",
              "      <td>0.811</td>\n",
              "      <td>0.098</td>\n",
              "      <td>-0.0964</td>\n",
              "    </tr>\n",
              "    <tr>\n",
              "      <th>15</th>\n",
              "      <td>15</td>\n",
              "      <td>0.053</td>\n",
              "      <td>0.757</td>\n",
              "      <td>0.189</td>\n",
              "      <td>0.8316</td>\n",
              "    </tr>\n",
              "    <tr>\n",
              "      <th>16</th>\n",
              "      <td>16</td>\n",
              "      <td>0.087</td>\n",
              "      <td>0.760</td>\n",
              "      <td>0.153</td>\n",
              "      <td>0.9854</td>\n",
              "    </tr>\n",
              "    <tr>\n",
              "      <th>17</th>\n",
              "      <td>17</td>\n",
              "      <td>0.069</td>\n",
              "      <td>0.767</td>\n",
              "      <td>0.164</td>\n",
              "      <td>0.9931</td>\n",
              "    </tr>\n",
              "    <tr>\n",
              "      <th>18</th>\n",
              "      <td>18</td>\n",
              "      <td>0.054</td>\n",
              "      <td>0.735</td>\n",
              "      <td>0.212</td>\n",
              "      <td>0.9865</td>\n",
              "    </tr>\n",
              "    <tr>\n",
              "      <th>19</th>\n",
              "      <td>19</td>\n",
              "      <td>0.060</td>\n",
              "      <td>0.765</td>\n",
              "      <td>0.175</td>\n",
              "      <td>0.9982</td>\n",
              "    </tr>\n",
              "    <tr>\n",
              "      <th>20</th>\n",
              "      <td>20</td>\n",
              "      <td>0.046</td>\n",
              "      <td>0.840</td>\n",
              "      <td>0.114</td>\n",
              "      <td>0.9231</td>\n",
              "    </tr>\n",
              "    <tr>\n",
              "      <th>21</th>\n",
              "      <td>21</td>\n",
              "      <td>0.000</td>\n",
              "      <td>0.300</td>\n",
              "      <td>0.700</td>\n",
              "      <td>0.9538</td>\n",
              "    </tr>\n",
              "    <tr>\n",
              "      <th>22</th>\n",
              "      <td>22</td>\n",
              "      <td>0.000</td>\n",
              "      <td>0.695</td>\n",
              "      <td>0.305</td>\n",
              "      <td>0.9597</td>\n",
              "    </tr>\n",
              "    <tr>\n",
              "      <th>23</th>\n",
              "      <td>23</td>\n",
              "      <td>0.089</td>\n",
              "      <td>0.634</td>\n",
              "      <td>0.276</td>\n",
              "      <td>0.9750</td>\n",
              "    </tr>\n",
              "    <tr>\n",
              "      <th>24</th>\n",
              "      <td>24</td>\n",
              "      <td>0.151</td>\n",
              "      <td>0.694</td>\n",
              "      <td>0.156</td>\n",
              "      <td>0.1884</td>\n",
              "    </tr>\n",
              "  </tbody>\n",
              "</table>\n",
              "</div>\n",
              "      <button class=\"colab-df-convert\" onclick=\"convertToInteractive('df-3dc5e3ea-83a3-4bc5-9b09-869b490b940c')\"\n",
              "              title=\"Convert this dataframe to an interactive table.\"\n",
              "              style=\"display:none;\">\n",
              "        \n",
              "  <svg xmlns=\"http://www.w3.org/2000/svg\" height=\"24px\"viewBox=\"0 0 24 24\"\n",
              "       width=\"24px\">\n",
              "    <path d=\"M0 0h24v24H0V0z\" fill=\"none\"/>\n",
              "    <path d=\"M18.56 5.44l.94 2.06.94-2.06 2.06-.94-2.06-.94-.94-2.06-.94 2.06-2.06.94zm-11 1L8.5 8.5l.94-2.06 2.06-.94-2.06-.94L8.5 2.5l-.94 2.06-2.06.94zm10 10l.94 2.06.94-2.06 2.06-.94-2.06-.94-.94-2.06-.94 2.06-2.06.94z\"/><path d=\"M17.41 7.96l-1.37-1.37c-.4-.4-.92-.59-1.43-.59-.52 0-1.04.2-1.43.59L10.3 9.45l-7.72 7.72c-.78.78-.78 2.05 0 2.83L4 21.41c.39.39.9.59 1.41.59.51 0 1.02-.2 1.41-.59l7.78-7.78 2.81-2.81c.8-.78.8-2.07 0-2.86zM5.41 20L4 18.59l7.72-7.72 1.47 1.35L5.41 20z\"/>\n",
              "  </svg>\n",
              "      </button>\n",
              "      \n",
              "  <style>\n",
              "    .colab-df-container {\n",
              "      display:flex;\n",
              "      flex-wrap:wrap;\n",
              "      gap: 12px;\n",
              "    }\n",
              "\n",
              "    .colab-df-convert {\n",
              "      background-color: #E8F0FE;\n",
              "      border: none;\n",
              "      border-radius: 50%;\n",
              "      cursor: pointer;\n",
              "      display: none;\n",
              "      fill: #1967D2;\n",
              "      height: 32px;\n",
              "      padding: 0 0 0 0;\n",
              "      width: 32px;\n",
              "    }\n",
              "\n",
              "    .colab-df-convert:hover {\n",
              "      background-color: #E2EBFA;\n",
              "      box-shadow: 0px 1px 2px rgba(60, 64, 67, 0.3), 0px 1px 3px 1px rgba(60, 64, 67, 0.15);\n",
              "      fill: #174EA6;\n",
              "    }\n",
              "\n",
              "    [theme=dark] .colab-df-convert {\n",
              "      background-color: #3B4455;\n",
              "      fill: #D2E3FC;\n",
              "    }\n",
              "\n",
              "    [theme=dark] .colab-df-convert:hover {\n",
              "      background-color: #434B5C;\n",
              "      box-shadow: 0px 1px 3px 1px rgba(0, 0, 0, 0.15);\n",
              "      filter: drop-shadow(0px 1px 2px rgba(0, 0, 0, 0.3));\n",
              "      fill: #FFFFFF;\n",
              "    }\n",
              "  </style>\n",
              "\n",
              "      <script>\n",
              "        const buttonEl =\n",
              "          document.querySelector('#df-3dc5e3ea-83a3-4bc5-9b09-869b490b940c button.colab-df-convert');\n",
              "        buttonEl.style.display =\n",
              "          google.colab.kernel.accessAllowed ? 'block' : 'none';\n",
              "\n",
              "        async function convertToInteractive(key) {\n",
              "          const element = document.querySelector('#df-3dc5e3ea-83a3-4bc5-9b09-869b490b940c');\n",
              "          const dataTable =\n",
              "            await google.colab.kernel.invokeFunction('convertToInteractive',\n",
              "                                                     [key], {});\n",
              "          if (!dataTable) return;\n",
              "\n",
              "          const docLinkHtml = 'Like what you see? Visit the ' +\n",
              "            '<a target=\"_blank\" href=https://colab.research.google.com/notebooks/data_table.ipynb>data table notebook</a>'\n",
              "            + ' to learn more about interactive tables.';\n",
              "          element.innerHTML = '';\n",
              "          dataTable['output_type'] = 'display_data';\n",
              "          await google.colab.output.renderOutput(dataTable, element);\n",
              "          const docLink = document.createElement('div');\n",
              "          docLink.innerHTML = docLinkHtml;\n",
              "          element.appendChild(docLink);\n",
              "        }\n",
              "      </script>\n",
              "    </div>\n",
              "  </div>\n",
              "  "
            ]
          },
          "metadata": {},
          "execution_count": 102
        }
      ]
    },
    {
      "cell_type": "markdown",
      "source": [
        "# *Installation of Transformers*"
      ],
      "metadata": {
        "id": "Ipqy0Gg2fFs8"
      }
    },
    {
      "cell_type": "code",
      "source": [
        "!pip install transformers\n"
      ],
      "metadata": {
        "id": "GWi7Dh9eTvsj",
        "colab": {
          "base_uri": "https://localhost:8080/"
        },
        "outputId": "1d4308db-8329-48fb-951f-911dbc9531fd"
      },
      "execution_count": null,
      "outputs": [
        {
          "output_type": "stream",
          "name": "stdout",
          "text": [
            "Looking in indexes: https://pypi.org/simple, https://us-python.pkg.dev/colab-wheels/public/simple/\n",
            "Requirement already satisfied: transformers in /usr/local/lib/python3.7/dist-packages (4.24.0)\n",
            "Requirement already satisfied: tokenizers!=0.11.3,<0.14,>=0.11.1 in /usr/local/lib/python3.7/dist-packages (from transformers) (0.13.2)\n",
            "Requirement already satisfied: tqdm>=4.27 in /usr/local/lib/python3.7/dist-packages (from transformers) (4.64.1)\n",
            "Requirement already satisfied: filelock in /usr/local/lib/python3.7/dist-packages (from transformers) (3.8.0)\n",
            "Requirement already satisfied: pyyaml>=5.1 in /usr/local/lib/python3.7/dist-packages (from transformers) (6.0)\n",
            "Requirement already satisfied: packaging>=20.0 in /usr/local/lib/python3.7/dist-packages (from transformers) (21.3)\n",
            "Requirement already satisfied: importlib-metadata in /usr/local/lib/python3.7/dist-packages (from transformers) (4.13.0)\n",
            "Requirement already satisfied: huggingface-hub<1.0,>=0.10.0 in /usr/local/lib/python3.7/dist-packages (from transformers) (0.11.0)\n",
            "Requirement already satisfied: regex!=2019.12.17 in /usr/local/lib/python3.7/dist-packages (from transformers) (2022.6.2)\n",
            "Requirement already satisfied: numpy>=1.17 in /usr/local/lib/python3.7/dist-packages (from transformers) (1.21.6)\n",
            "Requirement already satisfied: requests in /usr/local/lib/python3.7/dist-packages (from transformers) (2.23.0)\n",
            "Requirement already satisfied: typing-extensions>=3.7.4.3 in /usr/local/lib/python3.7/dist-packages (from huggingface-hub<1.0,>=0.10.0->transformers) (4.1.1)\n",
            "Requirement already satisfied: pyparsing!=3.0.5,>=2.0.2 in /usr/local/lib/python3.7/dist-packages (from packaging>=20.0->transformers) (3.0.9)\n",
            "Requirement already satisfied: zipp>=0.5 in /usr/local/lib/python3.7/dist-packages (from importlib-metadata->transformers) (3.10.0)\n",
            "Requirement already satisfied: certifi>=2017.4.17 in /usr/local/lib/python3.7/dist-packages (from requests->transformers) (2022.9.24)\n",
            "Requirement already satisfied: urllib3!=1.25.0,!=1.25.1,<1.26,>=1.21.1 in /usr/local/lib/python3.7/dist-packages (from requests->transformers) (1.24.3)\n",
            "Requirement already satisfied: chardet<4,>=3.0.2 in /usr/local/lib/python3.7/dist-packages (from requests->transformers) (3.0.4)\n",
            "Requirement already satisfied: idna<3,>=2.5 in /usr/local/lib/python3.7/dist-packages (from requests->transformers) (2.10)\n"
          ]
        }
      ]
    },
    {
      "cell_type": "code",
      "source": [
        "from transformers import AutoTokenizer\n",
        "from transformers import AutoModelForSequenceClassification\n",
        "from scipy.special import softmax"
      ],
      "metadata": {
        "id": "Wo4nSJCATmXj"
      },
      "execution_count": null,
      "outputs": []
    },
    {
      "cell_type": "markdown",
      "source": [
        "\n",
        "# *Modern Approach : Roberta Sentiment Analysis*"
      ],
      "metadata": {
        "id": "8swLTwrPoQKd"
      }
    },
    {
      "cell_type": "markdown",
      "source": [
        "# *Download of the Pre-trained Weights of the Roberta Model*"
      ],
      "metadata": {
        "id": "JNJYd3owfX9M"
      }
    },
    {
      "cell_type": "code",
      "source": [
        "MODEL = f\"cardiffnlp/twitter-roberta-base-sentiment\"\n",
        "tokenizer = AutoTokenizer.from_pretrained(MODEL)\n",
        "model = AutoModelForSequenceClassification.from_pretrained(MODEL)"
      ],
      "metadata": {
        "id": "lWI0h8QVUCLU"
      },
      "execution_count": null,
      "outputs": []
    },
    {
      "cell_type": "markdown",
      "source": [
        "# *Tokenization + Fitting the model on our data*\n",
        "Transforming the output to a numpy array in order to perform a softmax activation function "
      ],
      "metadata": {
        "id": "FvG1Zv_FfvFL"
      }
    },
    {
      "cell_type": "code",
      "source": [
        "def polarity_scores_roberta(example):\n",
        "    encoded_text = tokenizer(example, return_tensors='pt')\n",
        "    output = model(**encoded_text)\n",
        "    scores = output[0][0].detach().numpy()\n",
        "    scores = softmax(scores)\n",
        "    scores_dict = {\n",
        "        'Roberta_Negative_Review' : scores[0],\n",
        "        'Roberta_Neutral_Review' : scores[1],\n",
        "        'Roberta_Positive_Review' : scores[2]\n",
        "    }\n",
        "    return scores_dict"
      ],
      "metadata": {
        "id": "10Y3IkZkUSsU"
      },
      "execution_count": null,
      "outputs": []
    },
    {
      "cell_type": "markdown",
      "source": [
        "# *Iterating Over the Dataset And Analysing each review*\n",
        "the roberta models breaks on some iterations due to long reviews"
      ],
      "metadata": {
        "id": "3AmxVm_SjlOl"
      }
    },
    {
      "cell_type": "code",
      "source": [
        "res = {}\n",
        "for i, row in tqdm(df.iterrows(), total=len(df)):\n",
        "    try:\n",
        "        text = row['comment']\n",
        "        myid = i\n",
        "               \n",
        "        roberta_result = polarity_scores_roberta(text)\n",
        "        \n",
        "        res[i] = roberta_result\n",
        "    except RuntimeError:\n",
        "        print(f'Broke for id {i}')"
      ],
      "metadata": {
        "id": "3RgTetbSUufk",
        "colab": {
          "base_uri": "https://localhost:8080/",
          "height": 170,
          "referenced_widgets": [
            "63a56d13eaff461f9227342d27baba60",
            "4c9441d7a4204450adedcf64c152261b",
            "d85e3d6f8a524fa593daa97e269d4f3f",
            "97e386bb29d447bdb815f7a13f56215d",
            "ab3710cee2074cee94d2ba23eadeb9dd",
            "a0ae76dd54254a4bb91fede707c4d435",
            "f9ddf4eea02e43eabfbfd90bec050732",
            "3459348f2e644851806235237b45aa85",
            "9e3f98ab4ce74f3b8057e51866a822be",
            "a2a437a396794ac8a8582dc987e95a51",
            "e1cab43f97014710af4717b76d1fa654"
          ]
        },
        "outputId": "432d318e-3724-489f-e643-8c1292e398ae"
      },
      "execution_count": null,
      "outputs": [
        {
          "output_type": "display_data",
          "data": {
            "text/plain": [
              "  0%|          | 0/25 [00:00<?, ?it/s]"
            ],
            "application/vnd.jupyter.widget-view+json": {
              "version_major": 2,
              "version_minor": 0,
              "model_id": "63a56d13eaff461f9227342d27baba60"
            }
          },
          "metadata": {}
        },
        {
          "output_type": "stream",
          "name": "stdout",
          "text": [
            "Broke for id 1\n",
            "Broke for id 8\n",
            "Broke for id 9\n",
            "Broke for id 12\n",
            "Broke for id 13\n",
            "Broke for id 17\n",
            "Broke for id 19\n"
          ]
        }
      ]
    },
    {
      "cell_type": "code",
      "source": [
        "res"
      ],
      "metadata": {
        "id": "eZFXFp8IX_Gs",
        "colab": {
          "base_uri": "https://localhost:8080/"
        },
        "outputId": "f60e8702-d0b7-4fb7-d36c-64057b2fcc96"
      },
      "execution_count": null,
      "outputs": [
        {
          "output_type": "execute_result",
          "data": {
            "text/plain": [
              "{0: {'Roberta_Negative_Review': 0.0027522931,\n",
              "  'Roberta_Neutral_Review': 0.057343543,\n",
              "  'Roberta_Positive_Review': 0.93990415},\n",
              " 2: {'Roberta_Negative_Review': 0.0019886186,\n",
              "  'Roberta_Neutral_Review': 0.011501809,\n",
              "  'Roberta_Positive_Review': 0.9865097},\n",
              " 3: {'Roberta_Negative_Review': 0.022300515,\n",
              "  'Roberta_Neutral_Review': 0.13169876,\n",
              "  'Roberta_Positive_Review': 0.84600073},\n",
              " 4: {'Roberta_Negative_Review': 0.0031336606,\n",
              "  'Roberta_Neutral_Review': 0.030244535,\n",
              "  'Roberta_Positive_Review': 0.9666218},\n",
              " 5: {'Roberta_Negative_Review': 0.043412954,\n",
              "  'Roberta_Neutral_Review': 0.31548202,\n",
              "  'Roberta_Positive_Review': 0.64110506},\n",
              " 6: {'Roberta_Negative_Review': 0.03954422,\n",
              "  'Roberta_Neutral_Review': 0.18188061,\n",
              "  'Roberta_Positive_Review': 0.77857524},\n",
              " 7: {'Roberta_Negative_Review': 0.010867315,\n",
              "  'Roberta_Neutral_Review': 0.06257825,\n",
              "  'Roberta_Positive_Review': 0.92655444},\n",
              " 10: {'Roberta_Negative_Review': 0.0034930182,\n",
              "  'Roberta_Neutral_Review': 0.011301685,\n",
              "  'Roberta_Positive_Review': 0.9852053},\n",
              " 11: {'Roberta_Negative_Review': 0.13826792,\n",
              "  'Roberta_Neutral_Review': 0.44011864,\n",
              "  'Roberta_Positive_Review': 0.4216134},\n",
              " 14: {'Roberta_Negative_Review': 0.32482815,\n",
              "  'Roberta_Neutral_Review': 0.51905406,\n",
              "  'Roberta_Positive_Review': 0.15611778},\n",
              " 15: {'Roberta_Negative_Review': 0.41474316,\n",
              "  'Roberta_Neutral_Review': 0.373696,\n",
              "  'Roberta_Positive_Review': 0.21156083},\n",
              " 16: {'Roberta_Negative_Review': 0.02855682,\n",
              "  'Roberta_Neutral_Review': 0.21970043,\n",
              "  'Roberta_Positive_Review': 0.75174266},\n",
              " 18: {'Roberta_Negative_Review': 0.010872188,\n",
              "  'Roberta_Neutral_Review': 0.12114921,\n",
              "  'Roberta_Positive_Review': 0.86797863},\n",
              " 20: {'Roberta_Negative_Review': 0.04063446,\n",
              "  'Roberta_Neutral_Review': 0.1917384,\n",
              "  'Roberta_Positive_Review': 0.76762706},\n",
              " 21: {'Roberta_Negative_Review': 0.002359749,\n",
              "  'Roberta_Neutral_Review': 0.015992165,\n",
              "  'Roberta_Positive_Review': 0.98164797},\n",
              " 22: {'Roberta_Negative_Review': 0.0019966285,\n",
              "  'Roberta_Neutral_Review': 0.011911902,\n",
              "  'Roberta_Positive_Review': 0.98609143},\n",
              " 23: {'Roberta_Negative_Review': 0.0050813155,\n",
              "  'Roberta_Neutral_Review': 0.053620506,\n",
              "  'Roberta_Positive_Review': 0.94129807},\n",
              " 24: {'Roberta_Negative_Review': 0.03088961,\n",
              "  'Roberta_Neutral_Review': 0.14717834,\n",
              "  'Roberta_Positive_Review': 0.8219321}}"
            ]
          },
          "metadata": {},
          "execution_count": 108
        }
      ]
    },
    {
      "cell_type": "code",
      "source": [
        "plt.figure(figsize=[9,5])\n",
        "run=sns.distplot(df[\"ancmm\"])\n",
        "plt.suptitle(\"ancmm\",fontsize=20)\n",
        "plt.show"
      ],
      "metadata": {
        "colab": {
          "base_uri": "https://localhost:8080/",
          "height": 519
        },
        "id": "VvvA5dZwrsn7",
        "outputId": "d1c74f4e-0963-42e9-8965-305e5be2c516"
      },
      "execution_count": null,
      "outputs": [
        {
          "output_type": "error",
          "ename": "KeyError",
          "evalue": "ignored",
          "traceback": [
            "\u001b[0;31m---------------------------------------------------------------------------\u001b[0m",
            "\u001b[0;31mKeyError\u001b[0m                                  Traceback (most recent call last)",
            "\u001b[0;32m/usr/local/lib/python3.7/dist-packages/pandas/core/indexes/base.py\u001b[0m in \u001b[0;36mget_loc\u001b[0;34m(self, key, method, tolerance)\u001b[0m\n\u001b[1;32m   3360\u001b[0m             \u001b[0;32mtry\u001b[0m\u001b[0;34m:\u001b[0m\u001b[0;34m\u001b[0m\u001b[0;34m\u001b[0m\u001b[0m\n\u001b[0;32m-> 3361\u001b[0;31m                 \u001b[0;32mreturn\u001b[0m \u001b[0mself\u001b[0m\u001b[0;34m.\u001b[0m\u001b[0m_engine\u001b[0m\u001b[0;34m.\u001b[0m\u001b[0mget_loc\u001b[0m\u001b[0;34m(\u001b[0m\u001b[0mcasted_key\u001b[0m\u001b[0;34m)\u001b[0m\u001b[0;34m\u001b[0m\u001b[0;34m\u001b[0m\u001b[0m\n\u001b[0m\u001b[1;32m   3362\u001b[0m             \u001b[0;32mexcept\u001b[0m \u001b[0mKeyError\u001b[0m \u001b[0;32mas\u001b[0m \u001b[0merr\u001b[0m\u001b[0;34m:\u001b[0m\u001b[0;34m\u001b[0m\u001b[0;34m\u001b[0m\u001b[0m\n",
            "\u001b[0;32m/usr/local/lib/python3.7/dist-packages/pandas/_libs/index.pyx\u001b[0m in \u001b[0;36mpandas._libs.index.IndexEngine.get_loc\u001b[0;34m()\u001b[0m\n",
            "\u001b[0;32m/usr/local/lib/python3.7/dist-packages/pandas/_libs/index.pyx\u001b[0m in \u001b[0;36mpandas._libs.index.IndexEngine.get_loc\u001b[0;34m()\u001b[0m\n",
            "\u001b[0;32mpandas/_libs/hashtable_class_helper.pxi\u001b[0m in \u001b[0;36mpandas._libs.hashtable.PyObjectHashTable.get_item\u001b[0;34m()\u001b[0m\n",
            "\u001b[0;32mpandas/_libs/hashtable_class_helper.pxi\u001b[0m in \u001b[0;36mpandas._libs.hashtable.PyObjectHashTable.get_item\u001b[0;34m()\u001b[0m\n",
            "\u001b[0;31mKeyError\u001b[0m: 'ancmm'",
            "\nThe above exception was the direct cause of the following exception:\n",
            "\u001b[0;31mKeyError\u001b[0m                                  Traceback (most recent call last)",
            "\u001b[0;32m<ipython-input-111-394cbd701e4e>\u001b[0m in \u001b[0;36m<module>\u001b[0;34m\u001b[0m\n\u001b[1;32m      1\u001b[0m \u001b[0mplt\u001b[0m\u001b[0;34m.\u001b[0m\u001b[0mfigure\u001b[0m\u001b[0;34m(\u001b[0m\u001b[0mfigsize\u001b[0m\u001b[0;34m=\u001b[0m\u001b[0;34m[\u001b[0m\u001b[0;36m9\u001b[0m\u001b[0;34m,\u001b[0m\u001b[0;36m5\u001b[0m\u001b[0;34m]\u001b[0m\u001b[0;34m)\u001b[0m\u001b[0;34m\u001b[0m\u001b[0;34m\u001b[0m\u001b[0m\n\u001b[0;32m----> 2\u001b[0;31m \u001b[0mrun\u001b[0m\u001b[0;34m=\u001b[0m\u001b[0msns\u001b[0m\u001b[0;34m.\u001b[0m\u001b[0mdistplot\u001b[0m\u001b[0;34m(\u001b[0m\u001b[0mdf\u001b[0m\u001b[0;34m[\u001b[0m\u001b[0;34m\"ancmm\"\u001b[0m\u001b[0;34m]\u001b[0m\u001b[0;34m)\u001b[0m\u001b[0;34m\u001b[0m\u001b[0;34m\u001b[0m\u001b[0m\n\u001b[0m\u001b[1;32m      3\u001b[0m \u001b[0mplt\u001b[0m\u001b[0;34m.\u001b[0m\u001b[0msuptitle\u001b[0m\u001b[0;34m(\u001b[0m\u001b[0;34m\"ancmm\"\u001b[0m\u001b[0;34m,\u001b[0m\u001b[0mfontsize\u001b[0m\u001b[0;34m=\u001b[0m\u001b[0;36m20\u001b[0m\u001b[0;34m)\u001b[0m\u001b[0;34m\u001b[0m\u001b[0;34m\u001b[0m\u001b[0m\n\u001b[1;32m      4\u001b[0m \u001b[0mplt\u001b[0m\u001b[0;34m.\u001b[0m\u001b[0mshow\u001b[0m\u001b[0;34m\u001b[0m\u001b[0;34m\u001b[0m\u001b[0m\n",
            "\u001b[0;32m/usr/local/lib/python3.7/dist-packages/pandas/core/frame.py\u001b[0m in \u001b[0;36m__getitem__\u001b[0;34m(self, key)\u001b[0m\n\u001b[1;32m   3456\u001b[0m             \u001b[0;32mif\u001b[0m \u001b[0mself\u001b[0m\u001b[0;34m.\u001b[0m\u001b[0mcolumns\u001b[0m\u001b[0;34m.\u001b[0m\u001b[0mnlevels\u001b[0m \u001b[0;34m>\u001b[0m \u001b[0;36m1\u001b[0m\u001b[0;34m:\u001b[0m\u001b[0;34m\u001b[0m\u001b[0;34m\u001b[0m\u001b[0m\n\u001b[1;32m   3457\u001b[0m                 \u001b[0;32mreturn\u001b[0m \u001b[0mself\u001b[0m\u001b[0;34m.\u001b[0m\u001b[0m_getitem_multilevel\u001b[0m\u001b[0;34m(\u001b[0m\u001b[0mkey\u001b[0m\u001b[0;34m)\u001b[0m\u001b[0;34m\u001b[0m\u001b[0;34m\u001b[0m\u001b[0m\n\u001b[0;32m-> 3458\u001b[0;31m             \u001b[0mindexer\u001b[0m \u001b[0;34m=\u001b[0m \u001b[0mself\u001b[0m\u001b[0;34m.\u001b[0m\u001b[0mcolumns\u001b[0m\u001b[0;34m.\u001b[0m\u001b[0mget_loc\u001b[0m\u001b[0;34m(\u001b[0m\u001b[0mkey\u001b[0m\u001b[0;34m)\u001b[0m\u001b[0;34m\u001b[0m\u001b[0;34m\u001b[0m\u001b[0m\n\u001b[0m\u001b[1;32m   3459\u001b[0m             \u001b[0;32mif\u001b[0m \u001b[0mis_integer\u001b[0m\u001b[0;34m(\u001b[0m\u001b[0mindexer\u001b[0m\u001b[0;34m)\u001b[0m\u001b[0;34m:\u001b[0m\u001b[0;34m\u001b[0m\u001b[0;34m\u001b[0m\u001b[0m\n\u001b[1;32m   3460\u001b[0m                 \u001b[0mindexer\u001b[0m \u001b[0;34m=\u001b[0m \u001b[0;34m[\u001b[0m\u001b[0mindexer\u001b[0m\u001b[0;34m]\u001b[0m\u001b[0;34m\u001b[0m\u001b[0;34m\u001b[0m\u001b[0m\n",
            "\u001b[0;32m/usr/local/lib/python3.7/dist-packages/pandas/core/indexes/base.py\u001b[0m in \u001b[0;36mget_loc\u001b[0;34m(self, key, method, tolerance)\u001b[0m\n\u001b[1;32m   3361\u001b[0m                 \u001b[0;32mreturn\u001b[0m \u001b[0mself\u001b[0m\u001b[0;34m.\u001b[0m\u001b[0m_engine\u001b[0m\u001b[0;34m.\u001b[0m\u001b[0mget_loc\u001b[0m\u001b[0;34m(\u001b[0m\u001b[0mcasted_key\u001b[0m\u001b[0;34m)\u001b[0m\u001b[0;34m\u001b[0m\u001b[0;34m\u001b[0m\u001b[0m\n\u001b[1;32m   3362\u001b[0m             \u001b[0;32mexcept\u001b[0m \u001b[0mKeyError\u001b[0m \u001b[0;32mas\u001b[0m \u001b[0merr\u001b[0m\u001b[0;34m:\u001b[0m\u001b[0;34m\u001b[0m\u001b[0;34m\u001b[0m\u001b[0m\n\u001b[0;32m-> 3363\u001b[0;31m                 \u001b[0;32mraise\u001b[0m \u001b[0mKeyError\u001b[0m\u001b[0;34m(\u001b[0m\u001b[0mkey\u001b[0m\u001b[0;34m)\u001b[0m \u001b[0;32mfrom\u001b[0m \u001b[0merr\u001b[0m\u001b[0;34m\u001b[0m\u001b[0;34m\u001b[0m\u001b[0m\n\u001b[0m\u001b[1;32m   3364\u001b[0m \u001b[0;34m\u001b[0m\u001b[0m\n\u001b[1;32m   3365\u001b[0m         \u001b[0;32mif\u001b[0m \u001b[0mis_scalar\u001b[0m\u001b[0;34m(\u001b[0m\u001b[0mkey\u001b[0m\u001b[0;34m)\u001b[0m \u001b[0;32mand\u001b[0m \u001b[0misna\u001b[0m\u001b[0;34m(\u001b[0m\u001b[0mkey\u001b[0m\u001b[0;34m)\u001b[0m \u001b[0;32mand\u001b[0m \u001b[0;32mnot\u001b[0m \u001b[0mself\u001b[0m\u001b[0;34m.\u001b[0m\u001b[0mhasnans\u001b[0m\u001b[0;34m:\u001b[0m\u001b[0;34m\u001b[0m\u001b[0;34m\u001b[0m\u001b[0m\n",
            "\u001b[0;31mKeyError\u001b[0m: 'ancmm'"
          ]
        },
        {
          "output_type": "display_data",
          "data": {
            "text/plain": [
              "<Figure size 648x360 with 0 Axes>"
            ]
          },
          "metadata": {}
        }
      ]
    },
    {
      "cell_type": "markdown",
      "source": [
        "# *Review Sentiment Analysis Results*"
      ],
      "metadata": {
        "id": "oHiHk-DQhRH8"
      }
    },
    {
      "cell_type": "code",
      "source": [
        "results_df = pd.DataFrame(res).T\n",
        "results_df = results_df.iloc[1:,:]\n",
        "results_df = results_df.reset_index().rename(columns={'index': 'Movie Id'})\n"
      ],
      "metadata": {
        "id": "AIXjJpJBYR1D"
      },
      "execution_count": null,
      "outputs": []
    },
    {
      "cell_type": "markdown",
      "source": [
        "***“I'm gonna make him an offer he can't refuse.”***"
      ],
      "metadata": {
        "id": "TQ5pQhp1l6il"
      }
    },
    {
      "cell_type": "code",
      "source": [
        "df_godfather = pd.read_csv('ancmm.csv')\n",
        "df_godfather"
      ],
      "metadata": {
        "id": "lcEcMPYOl6-1"
      },
      "execution_count": null,
      "outputs": []
    }
  ]
}