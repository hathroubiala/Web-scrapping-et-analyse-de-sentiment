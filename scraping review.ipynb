{
 "cells": [
  {
   "cell_type": "code",
   "execution_count": 64,
   "id": "f99820dd",
   "metadata": {},
   "outputs": [],
   "source": [
    "import pandas as pd   \n",
    "import requests       \n",
    "from bs4 import BeautifulSoup \n",
    "import numpy as np"
   ]
  },
  {
   "cell_type": "code",
   "execution_count": 65,
   "id": "556261ce",
   "metadata": {},
   "outputs": [],
   "source": [
    "url = 'https://www.imdb.com/title/tt0468569/reviews?ref_=tt_urv'\n",
    "#request allow you to send HTTP request\n",
    "response = requests.get(url)\n",
    "soup = BeautifulSoup(response.content, 'html.parser')"
   ]
  },
  {
   "cell_type": "code",
   "execution_count": 66,
   "id": "5f35fcd4",
   "metadata": {},
   "outputs": [],
   "source": [
    "comaintaire = []"
   ]
  },
  {
   "cell_type": "code",
   "execution_count": 67,
   "id": "093b911b",
   "metadata": {},
   "outputs": [],
   "source": [
    "cm_data = soup.findAll('div', attrs= {'class': 'content'})"
   ]
  },
  {
   "cell_type": "code",
   "execution_count": 68,
   "id": "7d7dd97a",
   "metadata": {},
   "outputs": [],
   "source": [
    "for store in cm_data:\n",
    "    content = store.find('div',class_='text show-more__control').text\n",
    "    comaintaire.append(content)\n",
    "    \n",
    "   "
   ]
  },
  {
   "cell_type": "code",
   "execution_count": 69,
   "id": "94b6841d",
   "metadata": {},
   "outputs": [
    {
     "data": {
      "text/plain": [
       "['Confidently directed, dark, brooding, and packed with impressive action sequences and a complex story, The Dark Knight includes a career-defining turn from Heath Ledger as well as other Oscar worthy performances, TDK remains not only the best Batman movie, but comic book movie ever created.',\n",
       " 'I got to see The Dark Knight on Wednesday night, the reason though why I\\'m writing this movie comment this late is because I didn\\'t wanna just jump and say this movie was awesome, I wanted to think it through, still today, I can\\'t stop thinking about this movie! The Dark Knight lives up to it\\'s hype and goes beyond it, this is the Batman movie that goes where no other Batman movie has gone before. It gave us a real sold story, we are finally told why the villains are the way they are, how all the injustice in the world can get underneath Batman\\'s skin, how you have to believe that people still have faith in good on Earth. Heath Ledger, I absolutely loved Jack Nicolson\\'s performance in the 1989 film, when I first read that Heath was signed onto The Dark Knight, I was like \"What are they, kidding?\", once you see The Dark Knight... Heath was incredible! I\\'m not going to compare Jack and Heath\\'s performance, because they were two different versions of the Joker, but Heath\\'s Joker was definitely the more scary and intense of the two nominations. You didn\\'t know what he was going to do next, he was so crazy, he was also so charismatic to the point where you could relate to his character, and the worst part is not only that he\\'s crazy, he\\'s driving Gotham crazy and treating everyone like little puppets on strings that he can control, and guess what, he is doing it so well with a smile on his face. This was so much more than a Batman film, this was so much more than a comic book film, The Dark Knight truly delivers with drama, action, romance, horror, dark humor, the study of a psychopathic killer, a detective story. The force behind this epic movie is Christopher Nolan, who\\'s previous film, Batman Begins, didn\\'t really thrill me, but his incredible film making is truly shown in The Dark Knight, the shots that he got of Gotham City were absolutely fantastic and made you feel part of the city, part of the Batman story. One of the things that I absolutely loved about The Dark Knight is that normally with a comic book movie, you know it\\'s not real, people don\\'t dress up in costumes, and save the day, villains don\\'t name themselves crazy names and dress in make up or crazy costumes, but The Dark Knight actually makes it seem incredibly real, like it could happen.Bruce Wayne is still learning how to be in his double life of Batman and himself, he has lost Rachel to the new district attorney, Harvey Dent, he\\'s inspiring others who are dressing up as Batman and are trying to take on the villains of the city themselves. But things are much worse when the Joker waltzes into town, and he\\'s going to bring Hell upon Gotham City. Constantly playing with Gotham\\'s mind and trying to get Batman to reveal himself, Batman has never dealt with such a psychopathic genius before. The Joker has named himself as the \"Classy Villain that Gotham needs\", he also has brought a new thought into Batman\\'s head of them actually being more alike than different, that Batman completes him, the Joker would be nothing without him. But Batman is relying on Harvey Dent, who is Gotham\\'s \"White Knight\" trying to put all of Gotham\\'s scum in jail. But when the Joker plays Batman and Commissioner Gordon, Harvey and Rachel find themselves in very horrific position and Harvey must discover if he will die a hero or live long enough to become a villain.All the performances are dead on in this movie, now everyone\\'s going crazy over Heath Ledger\\'s performance, but one performance I would also love to credit is Aaron Eckhart who plays Harvey Dent/Two Face, his performance was just as great as Heath\\'s and made Two Face a human villain. You could understand his hatred and vengeance on what happened to him and why he became Two Face. I know that everyone is saying this but I truly mean when I say this is one of the best movies I have seen in a very long time. We had some great movies these past few years, but I think The Dark Knight is seriously something special, but I don\\'t wanna build it up too much since some people go to the theater expecting my words to be the same as your own. In my opinion though this is not a great movie, I can\\'t come up with a word describe how incredibly powerful this movie was, to be honest I would go above a 10 rating if I could; this is the Batman film that we have been waiting for. I\\'ve seen it twice in one weekend, I\\'m going to see it three times this upcoming week, I don\\'t mind one bit. I can\\'t wait for the sequel and I would just like to say RIP to Heath, wish he could have seen his breath taking performance as The Joker.10/10',\n",
       " \"This movie is a work of art. The finest sequel ever made. I don't think we will see another movie like this for a long time. Heath Ledger's Joker is the best movie charachter I have ever seen by far. Avengers Endgame is great, but The Dark Knight is much better. The best Batman ever! The best Joker ever! The best DC movie ever! The best superhero movie ever! Ando for me, the best movie ever!\",\n",
       " 'I think that I could wax lyrical but this movie all day. It is absolutely incredible from start to finish.This is the Batman trilogy\\'s second outing. It\\'s filled with hard-hitting action and almost every scene is absolutely enthralling to watch. The story is really good. The twists and turns keep the viewer constantly on their toes, especially in the third act of the movie. There are so many memorable scenes packed throughout this movie, so many quotes and ideas sprinkled throughout that you probably could analyze it for hours.Because while the action and story is incredible, it is the dynamic between the Batman and the Joker that really makes this movie what it is. It is all in the contrast between the two. Right against wrong. Chaos and anarchy versus order. The Joker is the perfect villain for Batman. Batman is literally, as said in the movie, a symbol. The very essence of the idea of the Batman is centered around order, rules and moral codes. He is the embodyment of what is right. The Joker challenges the very core and foundation of who Batman is and what he stands for. He is someone who doesn\\'t follow any rules. He is pure chaos and anarchy personified. As he so perfectly states in the third act of the movie, while hanging upside down off of a building: \"this is what happens when an unstoppable force meets an immovable object\". The Joker wants the Batman to go against his morals and to break his rules. The powerful thing is also that you can see why the Joker does what he does. In some ways he has a point and that also adds another layer to the character and to the dynamic between the two. It is truly an amazing battle. The brilliant acting from Heath Ledger is a major part of it too. He is absolutely incredible as the Joker. Rest in peace.I could probably go on further about how great I think this movie is but I\\'ll just say this. Just watch the movie. You should watch the first movie of the trilogy first but if that is something you absolutely don\\'t wan\\'t to do I still think you should see this movie. It is just great.',\n",
       " 'It is just what you want for the best movie. Great story great acting, thrilling twist.\\nJust watched Joker in 2019, I just has to come back and give dark knight a 10. And thanks to Heath Ledger for the exceptional performs.',\n",
       " 'Dark, yes, complex, ambitious. Christopher Nolan and his co-writer Jonathan Nolan deserve a standing ovation. I don\\'t usually go for loud movies filled with mindless gore and violence. \"The Dark Knight\" is certainly loud and violent but it\\'s not mindless. It has depth and soul. Even the Joker, in an extraordinary creation by Heath Ledger, is deeply human. The natural petulance of Christian Bale makes his ego and alter ego the most fascinating and complex of all film superheroes. Part of the genius of this movie is that Batman himself, in screen time, is not really the lead. My attention was captivated by Heath Ledger and he determines and inspires the breathtaking atmosphere that envelopes Gotham as well as us. The aplomb of Christopher Nolan as a director is mind blowing and his secret, I believe, is his obvious respect for his audience. What he\\'s done is to elevate a popular genre into Shakesperean proportions. Bravo!',\n",
       " 'I couldn\\'t believe \"The Dark knight\" could live up to the hype. That\\'s perhaps the biggest surprise. The secret, I believe, is a stunning, mature, intelligent script. That makes it the best superhero movie ever made. As if that wasn\\'t enough, Heath Ledger. He, the newest of the tragic modern icons present us with a preview of something we\\'ll never see. A fearless, extraordinary actor capable to fill up with humanity even the most grotesque of villains. His performance is a master class. Fortunately, Christian Bale\\'s Batman is almost a supporting character. Bale is good but there is something around his mouth that stops him from being great. \"The Dark Knight\" is visually stunning, powerful and moving. What else could anyone want.',\n",
       " 'I had the pleasure to watch this movie in an IMAX theatre in London (it advertises itself, with the slogan \"Biggest screen in the UK\"), which was one of the greatest movie experiences I had in my life. And it was my first movie in an IMAX theatre. I can only recommend it for anyone who has the chance to watch it, even if not the entire movie is shot for an IMAX theatre, this still is able to blow someone away! Great visuals combined with a great story and superb acting.The movie could also have been called \"The Joker\", but even with Heath Ledgers great performance, this still is a Batman movie. And \"The Dark Knight\" is clear enough, even without the Batman in the title. I simply loved the movie, but I heard some complaints from some friends. It seems that some might have a problem with the depiction of the characters (I loved Heath Ledger, but there are a few out there who would have wanted to see him even crazier) or the plot threads (especially what is done with the character of Aaron Eckhart). Although I can see why that might be a problem for fans of the comic books, I still stand by my vote. This is the best Batman movie ever (until hopefully Nolan and Bale make the next one)!',\n",
       " 'Christopher Nolan\\'s second bundle of joy \"The Dark Knight\" EXCEEDED all  of my expectations!!! With the success of 2005\\'s reboot of the Batman  franchise, they took what was already established and expanded it,  amped it up, and gave a deeper, darker and brooding story that is more  gripping and the suspense is likely to catch you of guard several times  throughout. Christian Bale delves more deeper into Batman, sworn to  fight evil and injustice, though also quite reluctant and uncertain if  his crusade can ever end and cleanse his inner turmoil from his  fractured soul due to the murder of his beloved parents. But with the  help of his trusted butler/ally Alfred (played superbly by Michael  Cane) grounds him, gives him moral support, and keeps him in check. But  the real star of the show is Heath Ledger as Batman\\'s most deadly  enemy, The Joker. I can HONESTLY tell you that: as good as Jack  Nicholson was in Batman\\'89 he is CHILD\\'S PLAY compared to this Joker.  He is sadistic, psychotic, and downright SCARIER and PSYCHOLOGICALLY  disturbing than the previous incarnation of The Clown Prince of Crime  and Ledger gives it his all to do him justice. Along with the original  cast comes some fresh faces such as Aaron Eckhart, Maggie Gyllenhaal  and more. I must say though I liked Katie Holmes, Gyllenhaal gives a  much better performance and is a far cry from the \"damsel-in-distress\"  stereotype (though there\\'s a little of it, THANKFULLY) that\\'s common in  films. Bale and Gyllenhall have MUCH better chemistry this time around  more so than Holmes. Even better, the fight sequences are vastly  improved and feature more brutal and bone crushing combat than \"Begins\"  in addition to new technology at Batman\\'s disposal.  Also worth mentioning is screenwriter Jonathan Nolan, who gives the  film an added frosting to an already delicious cake.  Simply put, The Dark Knight is totally more bad ass than \"Begins.\" The  action is great, and the plot is more deeper and engrossing. I applaud  Christopher Nolan, Christian Bale, and especially Heath Ledger (who  sadly passed away earlier this year) and all those aboard for believing  in Mr. Nolan\\'s talents for this second installment. Although some may  feel a bit of melancholy over Ledger\\'s death, but as a final note I  will say this sincerely from my heart: Remember Heath Ledger and honor  him in your minds and hearts not only for his performances, but as a  human being and father to his daughter Matilda  Ledger. May we issue him best wishes for his family and friends and his  daughter for years to come. Remember . . . Honor him not only for this  role and past roles, but as an incredible individual and talented  actor.  Rest in peace. Heath Ledger: 4/4/1979-1/22/2008.',\n",
       " 'I think the big question...or the question everyone actually cares about is this: Is Christopher Nolan\\'s follow up to the critically acclaimed 2005 film \"Batman Begins,\" The Dark Knight, as good as everyone is saying? Quite simply, yes, yes it is. There is no doubt about it, one of the most anticipated movies of the 21st century duly deserves every amount of praise lavished onto it. This is no ordinary superhero movie, this is a character and dialogue driven piece, not as action orientated as you might expect.I will not go into plot details, because there is a lot of it. However, a basic one sentence summary is: Batman now has to face his most cunning and psychotic enemy, someone with no real motives...The Joker. Now that that is out of the way, I will start off with the actors (and boy, is there a lot to talk about). Christian Bale has done a tremendous job as our beloved Caped Crusader, with him already blowing everyone else out of water with \"Batman Begins.\" Bruce Wayne has a flawed personality that hangs on the balance between righteousness and criminal. His perception of justice causes an emotional and personal shift, whether he is a wealthy businessman who fights crime in a gadget-riddled suit or just a normal man who is sick of all the scum in Gotham City and decides to give the law-breakers a dose of their own medicine. Because of this, and Bale\\'s tremendous acting, Bruce Wayne is justified, and we emphasise with Bale\\'s flawed hero more than any of the other actors. If there ever was an excellent Batman, this is it. The theme of right and wrong is played well with his character here.Of course, I am sure you all want know if Heath Ledger was that good. And I can safely say that he most definitely was. Ledger\\'s Joker is not only the best, but is now the greatest superhero film villain ever. His performance is truly terrifying, chilling, brilliant; any synonyms of the previous adjectives. Every scene he is in is stolen. The Joker truly is Batman\\'s worst villain; cunning and psychotic, nothing quite matches his laugh and sinister makeup. If Ledger nabs the Oscar for Best Actor, I honestly will not be surprised. It is a true tragedy to see such a talented actor fall at such a young age...All the other actors cannot be forgotten, though. Aaron Eckhart has definitely proved himself previously (\"Thankyou for Smoking\") as someone to watch out for. Here, as Harvey Dent (and later Two Face) he is very powerful. All he wants is justice; to bring down every single criminal. Eckhart is the definitive Two Face. Maggie Gyllenhaal as Wayne and Dent\\'s love interest, Rachel Dawes is much better than Katie Holmes. Gyllenhaal\\'s performance has substance, I really cared for her and her future and she was terrific in every scene. Michael Caine can do no wrong, and as Alfred Pennyworth he provides some comical and emotional scenes. Morgan Freeman as Lucius Fox, although a limited role, does inject some sly humour and much needed morals into the story. Finally, Gary Oldman\\'s Lt. James Gordon is riveting. He at least needs a Best Supporting Actor nomination for his performance as another crime-fighting hero who faces some challenging situations.Wally Pfister\\'s cinematography is simply stunning. Gotham has never looked so good, so big and deep. His wide shots purvey a dirty aura and contribute to the feel of the film. Without it, it may not have been the same. Another Oscar worthy portion, THE MUSIC! With Hans Zimmer AND James Newton Howard at the helm, how could it go wrong? The score sets the mood in every scene, giving an epic and thrilling tone. During the action sequences it really ups the adrenaline. And on the topic of action, The Dark Knight succeeds in having the best fight sequences and car chases in a comic book adaptation yet. With no obvious or over-use of CGI, the explosions and accidents are the real deal. Thrilling, edge of your seat and violent, this is brutally awesome stuff.Nevertheless, none of this would be possible without Christopher Nolan, the man behind it all. Pairing up with the writer (and brother) Jonathon Nolan, the darkest Batman movie yet is the best, and the best so far this year. This does not feel like a comic book film, the dialogue and situations feel so realistic. And, it IS the script that drives this film. The dialogue is very, very well written and is the centre of the conflict and the movie.It may be bold to say this, but this is the best superhero film of all time. There are others that are magnificent (\"Superman\" and \"X-Men\" are two examples) but this is the most complex, the most dark and the most spectacular and epic of them all. See it for Bale, for Ledger, for the music, the action and for Nolan\\'s flawless direction.5/5 and the best film of 2008 so far!!',\n",
       " 'Totally one of the greatest movie titles ever made. Everything was great, filming, acting, story. Nothing to complain about',\n",
       " 'If someone else acted as Joker, I would give the movie 7-8 stars. The majority of people ended up loving the villain more than the hero, and that rarely happends in movies.Rest in peace Heath Ledger.',\n",
       " 'Although I don\\'t think it is the fourth best movie ever made, as it is rated according to IMDb, I do think it stands head and shoulders above its super-hero peers, mainly because it is NOT a superhero movie. Batman is a mere mortal with lots of time to train himself physically and money to design the nifty gadgets he uses.Everybody on earth has seen this film, so no use regurgitating the plot. I think Heath Ledger\\'s rendition of The Joker is a masterpiece. Every time he leaves the screen I keep waiting for him to come back. Ledger should have won the best actor Oscar rather than supporting actor, because this is really a two leading man film - Bale as Batman and Ledger as The Joker. I always liked Jack Nicholson\\'s rendition of the Joker in the 1989 film directed by Tim Burton, but Ledger just blows Nicholson\\'s performance away. Maybe it is because Nicholson\\'s Joker had a past and an explanation for his behavior, maybe it is because, after all, Nicholson\\'s Joker just seems to be the wild side of the real Jack Nicholson where Heath Ledger never steps out of character for the entire film. Ledger\\'s Joker is like the devil decides to become incarnate, but unlike Ray Milland\\'s devil in \"Alias Nick Beal\" shows his true self - somebody who wants to break the spirits of people, to turn them on one another, to wantonly destroy property, people, whatever. That\\'s reinforced when the police can find no name, no past, no prints, no DNA, not even a label in his clothes when they arrest him. His past is a great big question mark. I like Michael Caine\\'s Alfred - it\\'s good to have someone with relevant past combat and guerrilla experience be a wise father figure to Wayne in this role rather than just a kindly museum piece. Likewise, Morgan Freeman is pitch perfect as Lucius and Wayne\\'s version of Q - somebody who invents his gadgets and runs his business since this really is not where Wayne\\'s mind is, Freeman gives the performance the perfect balance of humor, business acumen, and conscience. And finally I like the fact that Rachel, Bruce Wayne\\'s love interest, is not played by someone who is some unrealistic 10.5/10. She\\'s a cute girl, but her attributes lie in her mind and her heart as well.The negatives - I think Harvey\\'s transformation into Two Face is a little too pat. I don\\'t know why Batman has a totally different voice from Bruce Wayne. Is he doing that on purpose? And I think I found one editing error. Gordon in the end talks about how hard it will be to cover up Harvey/ Two Face\\'s murders including \"two cops\". Harvey let crooked cop Ramirez live and just knocked her out. But if she had lived then Gordon and Batman\\'s plan to cover up Harvey\\'s crimes would never have worked because she would have known what happened. So which scene was wrongly included/scripted? I\\'d recommend it as one of the better films made since the turn of the century that was also a blockbuster.',\n",
       " 'So it finally happened, a DC Comics movie adaptation that out-marveled the Marvel folks, and to such a degree that it might be quite a while before anything comes close to topping \"The Dark Knight\". This was the severely grim and gritty version of the Batman, ushered in by Frank Miller\\'s initial treatment in the landmark graphic novel \"The Dark Knight Returns\" in 1986. Miller\\'s portrayal of the iconic super hero took the gloves off as far as politically correct behavior goes. The movie explores this theme at many levels, and would have served up enough of a plot to keep this viewer interested even without the explosions, chases and general mayhem that modern day audiences need to get their fix on. Actually, the Joker summed it all up quite brilliantly hanging upside down from one of Batman\\'s cables over the streets of Gotham, as noted in my summary line above. In the comic book world, they HAVE been fighting each other forever, or as long as forever exists since the creation of Batman back in 1939; the Joker came on the scene in 1940 in the comic, Batman #1.I don\\'t think this could have been the same picture without Heath Ledger in the role of Batman\\'s all time greatest nemesis. His portrayal blows away Jack Nicholson\\'s performance in 1989\\'s \"Batman\", and that\\'s through no fault of Nicholson\\'s. Today\\'s films are a product of harsher and deadlier times, and it\\'s striking that Ledger\\'s characterization would define the Joker as an extremist, perhaps even a terrorist. More than once I found myself questioning what was going on during the opening bank robbery scene. The bad guys were offing each other based on instructions delivered by the Joker, and you suddenly come to the realization that this domino game had to end with one man standing. It\\'s how we\\'re introduced to Ledger\\'s definitive Joker, a performance that won\\'t be topped.Another thought came to me as I watched the story unfold, and that was how similar the coin toss gimmick paralleled the one in \"No Country For Old Men\". Harvey Dent (Aaron Eckhart) began using the tactic following the death of Rachel Dawes (Maggie Gyllenhaal), and I began picturing Javier Bardem in the role of The Joker. Hard to imagine who might have been the more evil character, Bardem\\'s Anton Chigurh in a more realistic setting, or The Joker in a fictional Gotham City. Fortunately, not a choice one would normally have to consider.I\\'m a little bit on the fence as to Christian Bale\\'s portrayal of The Batman. He\\'s more than adequate as Bruce Wayne, but the voice he gives to the Dark Knight seems a bit melodramatic. Granted, he couldn\\'t use the same voice as his alter ego, but there were times that it sounded so forced as to come across as parody, and other times just goofy, almost a throwback to the Adam West days of the TV Batman. Strange, but have you considered that no one ever calls him the Caped Crusader anymore either?All in all, great performances all around. Gary Oldman\\'s portrayal of the new Commissioner Gordon was excellent, while Michael Caine as Alfred, and Morgan Freeman as Lucius Fox were solid even with limited screen time. I thought about Katie Holmes just once while making a mental comparison when Maggie Gyllenhaal first appeared on screen. Truthfully, they looked similar enough to effect the transition smoothly to the point where it wasn\\'t distracting for me in the least.Obviously, the set up for the next sequel was firmly set in place with the creation of Two Face, the now alter ego of District Attorney Harvey Dent. The rendering of Dent\\'s burned face was boldly executed and quite marvelous in it\\'s own grotesque way. I\\'ll be looking forward to the next installment.And NOW, for a personal rant. I probably should put this in parentheses because it doesn\\'t have anything to do with the movie, but for this picture to be #1 on the IMDb list of all time best movies after 4 days of release is incomprehensible, if not downright laughable (and I did rate it a 10 myself). I think there should be a moratorium of at least a couple of years before a film qualifies for IMDb ranking, giving the dust some time to settle from all the grand opening hoopla that surrounds a picture like this. I feel the same way about other recent movies like \"No Country For Old Men\" and \"There Will Be Blood\", both of which garnered numerous awards and fan approval. But if they\\'re to be considered among the best films of all time, they\\'ll be considered that way a decade from now without the need for multiple votes from over zealous fan boys.',\n",
       " \"(Synopsis) Bruce Wayne/Batman (Christian Bale) continues to eliminate crime in Gotham City with the help of Lt. Jim Gordon (Gary Oldman) and the new District Attorney, Harvey Dent (Aaron Eckhart). The Dark Knight wants to finally get rid of organized crime for good and be free of their corruption. Batman soon finds that a new psychopathic mastermind known as the Joker (Heath Ledger) has taken over organized crime. The Joker's plan is to terrify the citizens and throw the city into chaos, and kill Batman. Batman takes the fight with the Joker personal, which makes him confront his own beliefs. The Joker is the most dangerous criminal that Batman has encountered, and he will need all his strength and vigilance to defeat him.(My Comment) This film just blew me away. Christian Bale is a natural as Bruce Wayne/Batman, and Michael Caine fits the part of Alfred, the trusted butler. Heath Ledger's performance as the sadistic Joker was absolutely disturbing and scary yet simply amazing. I would not want to meet the Joker in a dark alley, and whatever you do, don't ask him how he got his smile, especially, when he has a knife in his hand. Ledger's performance has turned the Joker into a new iconic movie villain image. Between all the punches, mayhem, and explosions, there is some good sinister dialog. The movie not only has a lot of action, it also tells the story of the internal struggle that Bruce Wayne is having with being the Batman hero. Bruce Wayne wants to be himself and maintain the difference between himself and Batman. Bruce must decide to follow the code or do what has to be done without affecting his own morals. The movie explores the literary themes of Hero verses Villain, as well as Order verses Anarchy, and the Joker explains to Batman that to have one you must have the other, and because of that, they will always be connected. The movie is long, but it went by so fast. You will love the last 45 minutes, because of the non-stop action with Batman in his new sonic suit and his BatPod. With all the explosions, body count, and the dark mood of the movie, I don't think parents should take young children. (Warner Bros. Pictures, Run Time 2:32, Rated PG-13)(10/10)\",\n",
       " \"What can I say, it was made by Christopher Nolan so it has to be good. Amazing action. Amazing characters. Amazing director. The Dark Knight has everything. I have no problems with this movie. But the thing keeping me back from giving this movie a 10 is that something about it just didn't fully connect with me.Overall rating: 9.4.\",\n",
       " 'Batman has always been my favourite superhero ever since the first time I heard about him because he his human with no powers, also he is much more questionable than any other superhero. The story of the film is about Batman, Lieutenant James Gordon, and new district attorney Harvey Dent beginning to succeed in rounding up the criminals that plague Gotham City. They are unexpectedly challenged when a mysterious criminal mastermind known as the Joker appears in Gotham. Batman\\'s struggle against the Joker becomes deeply personal, forcing him to \"confront everything he believes\" and to improve his technology (which introduces the recreation of the Batcycle, known as the Batpod and the Batsuit was redesigned) to stop the madman\\'s campaign of destruction. During the course of the film, a love triangle develops between Bruce Wayne, Dent and Rachel Dawes.There are now six Batman films and I must say that The Dark Knight is the best out of all of them. The title is good because that is what Batman actually is. It has been 3 years for the adventure to continue from Batman Begins but that entire wait was worth it. Gotham city is very Gothic looking and is very haunting and visionary. The whole movie is charged with pulse-pounding suspense, ingenious special effects and riveting performances from a first-rate cast especially from Heath Ledger who gave an Oscar nomination performance for best supporting-actor. It is a shame that he can\\'t see his terrific work on-screen. The cinematography is excellent which is made so dark & sinister that really did suit the mood for the film. Usually sequels don\\'t turn out to be better than the original but The Dark Knight is one of those rare sequels that surpasses the original like The Godfather 2. I also really liked the poster where the building is on fire in a Bat symbol & Batman is standing in front of it. Christopher Nolan is a brilliant director and his film Memento is one of my most favourite films. He hasn\\'t made 10 movies yet and 3 of them are already on the IMDb top 250. Overall The Dark Knight is the kind of movie that will make the audience cheer in the end instead of throwing fruit & vegetables on the screen.',\n",
       " 'I used to leave a theatre after seeing a highly anticipated movie, specifically a sequel, and be so revved up about what I saw that I would declare that movie to be the best of a series. After each of the prequel \"Star Wars\" films, I rated that one the best, as good as any of the originals...for a time, until my opinion balanced out and I had a more well-rounded take. For that reason, I steer away from that mindset, and did for \"Dark Knight\".Though my opinion is solidifying already after having seen a Warner Bros. screening last night, \"Dark Knight\" ably stands on its own with or without \"Batman Begins\". At a two and a half hour runtime, it\\'s definitely an epic of a movie, but one that never runs out of gas. A delightful addition to this experience was a healthy amount of IMAX footage, which significantly adds to the feel of being on a personal, and gruesome, tour of Gotham City.Christian Bale plays such a well rounded Batman and Bruce Wayne, qualities that none of those who have donned the cowl before him have pulled off. I still have to remember that Bale is British since he speaks with such a spot on American accent. Bale has a particular slurring lisp that serves him quite well, charmingly for Bruce Wayne and threateningly for Batman.Countering him is the late Heath Ledger, who plays such a scary and creepy Joker that I found it impossible to NOT have chills half the time I saw him on screen. What really separates this brand of Joker from Jack Nicholson\\'s portrayal is true unpredictability. It\\'s obvious that, to be a good guy and think like the Joker, it really takes a toll, and it sure isn\\'t easy. How exactly does one take him down when he\\'s woven his harebrained plot around multiple hostages, explosives, or disappearing parlor tricks?Initially, I was uneasy about how the character of Harvey Dent would be handled. In my mind, there was really only one faithful portrayal of him, and that could be found in the \"Batman\" animated series of the early 90s. As well as Tommy Lee Jones COULD have handled him in \"Batman Forever\", he certainly did not, though it still was a highlight of that movie. Aaron Eckhart ably assumes the mantle here, delivering a performance out of this world, easily on par with the Batman animated series.Be it known, this caped avenger stands for the good of Gotham City that the police force and its counterparts can\\'t represent, the good that has no jurisdiction, no procedures...and no rules, save for one. I can only hope that we\\'ve seen just the prelude to the Dark Knight\\'s upcoming legendary battles with the worst of Gotham City\\'s dark underside.\"The Dark Knight\" gets a solid 10 of 10 stars.',\n",
       " 'A brilliant tense movie from the beginning to the end in which tells the story of the rising new menace in Gotham city known only as the Joker and how the Dark Knight has to reach his limits trying to control the havoc he breaks in Gotham city.The movie is an extraordinary piece of the filmmaking art in all its aspects, the plot is carefully and smartly written as a intricately wrought canvas, the character development is very satisfying, the movie was shot well and nicely directed, the epic score fits the scenes and add up to the whole visual experience, the acting was intense by all cast where each fit their role perfectly, specially Heath Ledger who managed after all these years of having the Joker around in comic books, animations, TV series and even movies to literally bring this complicated character with all its twisted, brilliant, sadistic, dark and sometimes funny personality to live on the big screen. This is the last movie that Heath Ledger filmed completely and I believe some how he saved the best for last as he managed to put an outstanding final act of a realistic Joker and managed to put a smile on our faces before death brings down the curtains on his talent.',\n",
       " \"I thought Batman Begins was a very well conceived and put together  movie. We finally get Batman as a fully rendered character. We gain new  insight into his motivations and the variables he must contend with in  his role as protector of Gotham. We get to see Gary Oldman as an  honest-to-goodness good guy. And we get to see Liam Neeson conducting  perhaps his strangest facial hair experiment yet.  But after seeing The Dark Knight, Batman Begins will forevermore be  viewed (by me at least) as a handy little prologue to a FRICKIN'  MASTERPIECE of a superhero film.  To say it's the deepest mainstream comic adaptation ever produced would  be akin to calling the Nolan/Ledger Joker 'a bit eccentric'.  While watching it, I found myself thinking it was very long, which is  usually a sign that it's TOO long, and therefore boring. But that's not  actually the case here. The script is bulging with ideas, philosophical  musings, THEMES, which Christopher Nolan is not content to gloss over  in favour of cool set-pieces (as many comic adaptations are), but wants  to explore, wants to allow the characters to explore, at a logical  pace. So, what I guess I'm saying is, considering what it sets out to  do, the movie is long ENOUGH, while still constantly holding the  viewer's interest.  And that's not to say the thematic exploration comes at the EXPENSE of  big action, either. On the contrary, there is some truly awesome stuff  going on here. The chase with the truck, for example, is fantastic, and  there's some great hand-to-hand stuff too.  But what engages us most is the characters, and, while the script is  brilliant (the dialogue is sharp, and quite funny for the first  two-thirds, before the drama really kicks in), this mainly comes down  to the cast.  Christian Bale. Taller than Michael Keaton was. More menacing than Val  Kilmer was. Less like Adam West than George Clooney was. Solid and  committed as always. He gives the character LIFE, and actually makes us  feel for him. The word 'tortured' keeps coming to mind...and I suppose  it's pretty appropriate.  Heath Ledger. Y'know, I'd heard talk of an Oscar nomination, and  thought it sounded a bit dubious. A Batman villain? Winning an Oscar?  Is that what it's come to? Then I thought, is it because he didn't get  one for Brokeback? Or more dubious still...is it because he...died?  But...well...how can I put it...?   It seems a bit blasphemous to compare Jack Nicholson to Cesar Romero,  but after seeing Heath at work...Jack (who once seemed so awesome) just  looks...well...lame.  If you've seen it, you hopefully get what I mean. If you haven't...you  need to. You will discover the true definition of commitment.  Maggie Gyllenhaal. I didn't have any problem with Katie in the first  one (at the time), but I doubt she could have pulled off the more  emotional stuff Rachel goes through here. Seeing recasting was  necessary (does Tom have a problem with his wife being involved with  Batman? Too many bad memories perhaps? Why am I even talking about such  garbage here?) they could have done a butt-load worse than Maggie. She  rocks.  As does Aaron Eckhart. But I'm not giving ANYTHING away. Suffice it to  say my mind was blown...AGAIN. Makes Tommy Lee Jones look like...you  get the idea.  Michael Caine. Still one of my favourite actors. Alfred is the shiz.  Morgan Freeman. Morgan Freeman. AOK.  Gary Oldman. As in BB, no mania. No psychosis. No nervous tics.  Absolute subtlety. Manages to hold his own alongside Christian, Heath  and Aaron without resorting to parlour tricks. Sign of spectacular  talent. Go Gaz.  Eric Roberts! William Fichtner! Michael Jai White! Tiny Lister!  The whole thing is just a big bag of thoughtful, well-executed  entertainment. It's equal parts cerebral and visceral. Ideas and  action.  I've liked every Batman movie so far (okay, besides Batman & Robin),  but this one makes them all look pretty bloody ordinary.\",\n",
       " 'I am not a huge fan of sequels and it is hard to write a review about what I see as one of the most perfect movies I have had the privilege to see.The Nolan brothers have done a brilliant job with this sequel to the critically acclaimed Batman Begins of 2005.Heath Ledger as the Joker virtually steals the movie, add him to Christian Bale as Batman, Aaron Eckhart as Harvey Dent and Michael Caine as Alfred, then add the brilliant Morgan Freeman and the ever reliable Gary Oldman in their respective roles and you have an absolutely brilliant cast to work their magic.I am not as eloquent as many of the reviewers on this site who have gushed superlatives about this movie in 1000 words or less, but my short review will suffice for me to get across my opinion.If you have not already seen this movie after 9 years you have really missed out on one of the entertainment experiences of life that you could have very cheaply experienced by now. You owe it to yourself to get a copy of this somehow and see it.One of the easiest movies to rate 10 out of 10.',\n",
       " 'Perfect, greatest movie.. the plot, action, storyline everything is best , best',\n",
       " \"This is the best superhero movie ever made!!!! If you like to watch superhero movies then you should definitely watch this.However, I must say that this movie is much more than just a superhero movie. If you don't like superhero movie but want to watch a good drama/action movie then this is one of the best.\",\n",
       " \"A modern masterpiece of 21st Century Cinema. The Dark Knight combines great direction, with brilliant acting, and beautiful cinematography to create a film that transcends it genres and becomes a great film. This will remain a perfect example of why film is still worth shooting in, why practical effects should not be a thing of the past, and why the Oscars should pay attention to comic book films as they can be art in their own right. It serves as a comic book film, but also a tragedy of Shakespearean quality, with one of the best villains of the last 20 years. On top of that Christopher Nolan's unflinching faith in practical effects creates a truly realistic and beautiful experience.\",\n",
       " \"Batman takes on the crime lords with the help of Lieutenant Jim Gordon and District Attorney Harvey Dent. However an even bigger evil rises to terrorize Gotham.Maggie Gyllenhaal is an improvement over Katie Holmes as Rachel Dawes. Aaron Eckhart adds a good performance as Harvey Dent. In the end, this is Heath Ledger's movie. He overpowers everybody. His early death may have immortalized him, but my opinion isn't inflated. His presence is electric. It helps that his character is so ridiculously crazy. His motivation has nothing to do with power or money which is so mundane. He wants chaos and that is so much more fascinating. Heath Ledger makes this movie great. And it surpasses the series reboot 'Batman Begins'.\"]"
      ]
     },
     "execution_count": 69,
     "metadata": {},
     "output_type": "execute_result"
    }
   ],
   "source": [
    "comaintaire"
   ]
  },
  {
   "cell_type": "code",
   "execution_count": 70,
   "id": "7bb8449c",
   "metadata": {},
   "outputs": [],
   "source": [
    "cm_DF = pd.DataFrame({'Comaintaire': comaintaire})\n"
   ]
  },
  {
   "cell_type": "code",
   "execution_count": 71,
   "id": "6ea0a159",
   "metadata": {},
   "outputs": [
    {
     "data": {
      "text/html": [
       "<div>\n",
       "<style scoped>\n",
       "    .dataframe tbody tr th:only-of-type {\n",
       "        vertical-align: middle;\n",
       "    }\n",
       "\n",
       "    .dataframe tbody tr th {\n",
       "        vertical-align: top;\n",
       "    }\n",
       "\n",
       "    .dataframe thead th {\n",
       "        text-align: right;\n",
       "    }\n",
       "</style>\n",
       "<table border=\"1\" class=\"dataframe\">\n",
       "  <thead>\n",
       "    <tr style=\"text-align: right;\">\n",
       "      <th></th>\n",
       "      <th>Comaintaire</th>\n",
       "    </tr>\n",
       "  </thead>\n",
       "  <tbody>\n",
       "    <tr>\n",
       "      <th>0</th>\n",
       "      <td>Confidently directed, dark, brooding, and pack...</td>\n",
       "    </tr>\n",
       "    <tr>\n",
       "      <th>1</th>\n",
       "      <td>I got to see The Dark Knight on Wednesday nigh...</td>\n",
       "    </tr>\n",
       "    <tr>\n",
       "      <th>2</th>\n",
       "      <td>This movie is a work of art. The finest sequel...</td>\n",
       "    </tr>\n",
       "    <tr>\n",
       "      <th>3</th>\n",
       "      <td>I think that I could wax lyrical but this movi...</td>\n",
       "    </tr>\n",
       "    <tr>\n",
       "      <th>4</th>\n",
       "      <td>It is just what you want for the best movie. G...</td>\n",
       "    </tr>\n",
       "    <tr>\n",
       "      <th>5</th>\n",
       "      <td>Dark, yes, complex, ambitious. Christopher Nol...</td>\n",
       "    </tr>\n",
       "    <tr>\n",
       "      <th>6</th>\n",
       "      <td>I couldn't believe \"The Dark knight\" could liv...</td>\n",
       "    </tr>\n",
       "    <tr>\n",
       "      <th>7</th>\n",
       "      <td>I had the pleasure to watch this movie in an I...</td>\n",
       "    </tr>\n",
       "    <tr>\n",
       "      <th>8</th>\n",
       "      <td>Christopher Nolan's second bundle of joy \"The ...</td>\n",
       "    </tr>\n",
       "    <tr>\n",
       "      <th>9</th>\n",
       "      <td>I think the big question...or the question eve...</td>\n",
       "    </tr>\n",
       "    <tr>\n",
       "      <th>10</th>\n",
       "      <td>Totally one of the greatest movie titles ever ...</td>\n",
       "    </tr>\n",
       "    <tr>\n",
       "      <th>11</th>\n",
       "      <td>If someone else acted as Joker, I would give t...</td>\n",
       "    </tr>\n",
       "    <tr>\n",
       "      <th>12</th>\n",
       "      <td>Although I don't think it is the fourth best m...</td>\n",
       "    </tr>\n",
       "    <tr>\n",
       "      <th>13</th>\n",
       "      <td>So it finally happened, a DC Comics movie adap...</td>\n",
       "    </tr>\n",
       "    <tr>\n",
       "      <th>14</th>\n",
       "      <td>(Synopsis) Bruce Wayne/Batman (Christian Bale)...</td>\n",
       "    </tr>\n",
       "    <tr>\n",
       "      <th>15</th>\n",
       "      <td>What can I say, it was made by Christopher Nol...</td>\n",
       "    </tr>\n",
       "    <tr>\n",
       "      <th>16</th>\n",
       "      <td>Batman has always been my favourite superhero ...</td>\n",
       "    </tr>\n",
       "    <tr>\n",
       "      <th>17</th>\n",
       "      <td>I used to leave a theatre after seeing a highl...</td>\n",
       "    </tr>\n",
       "    <tr>\n",
       "      <th>18</th>\n",
       "      <td>A brilliant tense movie from the beginning to ...</td>\n",
       "    </tr>\n",
       "    <tr>\n",
       "      <th>19</th>\n",
       "      <td>I thought Batman Begins was a very well concei...</td>\n",
       "    </tr>\n",
       "    <tr>\n",
       "      <th>20</th>\n",
       "      <td>I am not a huge fan of sequels and it is hard ...</td>\n",
       "    </tr>\n",
       "    <tr>\n",
       "      <th>21</th>\n",
       "      <td>Perfect, greatest movie.. the plot, action, st...</td>\n",
       "    </tr>\n",
       "    <tr>\n",
       "      <th>22</th>\n",
       "      <td>This is the best superhero movie ever made!!!!...</td>\n",
       "    </tr>\n",
       "    <tr>\n",
       "      <th>23</th>\n",
       "      <td>A modern masterpiece of 21st Century Cinema. T...</td>\n",
       "    </tr>\n",
       "    <tr>\n",
       "      <th>24</th>\n",
       "      <td>Batman takes on the crime lords with the help ...</td>\n",
       "    </tr>\n",
       "  </tbody>\n",
       "</table>\n",
       "</div>"
      ],
      "text/plain": [
       "                                          Comaintaire\n",
       "0   Confidently directed, dark, brooding, and pack...\n",
       "1   I got to see The Dark Knight on Wednesday nigh...\n",
       "2   This movie is a work of art. The finest sequel...\n",
       "3   I think that I could wax lyrical but this movi...\n",
       "4   It is just what you want for the best movie. G...\n",
       "5   Dark, yes, complex, ambitious. Christopher Nol...\n",
       "6   I couldn't believe \"The Dark knight\" could liv...\n",
       "7   I had the pleasure to watch this movie in an I...\n",
       "8   Christopher Nolan's second bundle of joy \"The ...\n",
       "9   I think the big question...or the question eve...\n",
       "10  Totally one of the greatest movie titles ever ...\n",
       "11  If someone else acted as Joker, I would give t...\n",
       "12  Although I don't think it is the fourth best m...\n",
       "13  So it finally happened, a DC Comics movie adap...\n",
       "14  (Synopsis) Bruce Wayne/Batman (Christian Bale)...\n",
       "15  What can I say, it was made by Christopher Nol...\n",
       "16  Batman has always been my favourite superhero ...\n",
       "17  I used to leave a theatre after seeing a highl...\n",
       "18  A brilliant tense movie from the beginning to ...\n",
       "19  I thought Batman Begins was a very well concei...\n",
       "20  I am not a huge fan of sequels and it is hard ...\n",
       "21  Perfect, greatest movie.. the plot, action, st...\n",
       "22  This is the best superhero movie ever made!!!!...\n",
       "23  A modern masterpiece of 21st Century Cinema. T...\n",
       "24  Batman takes on the crime lords with the help ..."
      ]
     },
     "execution_count": 71,
     "metadata": {},
     "output_type": "execute_result"
    }
   ],
   "source": [
    "cm_DF"
   ]
  },
  {
   "cell_type": "code",
   "execution_count": 73,
   "id": "6d11506f",
   "metadata": {},
   "outputs": [],
   "source": [
    "df = pd.DataFrame(comaintaire,columns = ['comment'])\n",
    "df.to_csv('ancmm.csv')"
   ]
  },
  {
   "cell_type": "code",
   "execution_count": null,
   "id": "c6d9648b",
   "metadata": {},
   "outputs": [],
   "source": []
  }
 ],
 "metadata": {
  "kernelspec": {
   "display_name": "Python 3 (ipykernel)",
   "language": "python",
   "name": "python3"
  },
  "language_info": {
   "codemirror_mode": {
    "name": "ipython",
    "version": 3
   },
   "file_extension": ".py",
   "mimetype": "text/x-python",
   "name": "python",
   "nbconvert_exporter": "python",
   "pygments_lexer": "ipython3",
   "version": "3.9.12"
  }
 },
 "nbformat": 4,
 "nbformat_minor": 5
}
